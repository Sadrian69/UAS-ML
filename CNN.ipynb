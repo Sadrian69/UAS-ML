{
 "cells": [
  {
   "cell_type": "markdown",
   "id": "c96a7315-43c1-4604-8fc4-a663cf9f834f",
   "metadata": {
    "tags": []
   },
   "source": [
    "# Laporan Project UAS Machine Learning\n",
    "\n",
    "Adi Christian C14210091\\\n",
    "Meike Surajiman C14210116\\\n",
    "Steven Adrian Gracia C14210171\n"
   ]
  },
  {
   "cell_type": "code",
   "execution_count": 1,
   "id": "d9a7b788-8cc8-4a27-bd30-01365b57a674",
   "metadata": {},
   "outputs": [
    {
     "name": "stdout",
     "output_type": "stream",
     "text": [
      "WARNING:tensorflow:From C:\\Users\\Steven Adrian\\anaconda3\\envs\\islp\\Lib\\site-packages\\keras\\src\\losses.py:2976: The name tf.losses.sparse_softmax_cross_entropy is deprecated. Please use tf.compat.v1.losses.sparse_softmax_cross_entropy instead.\n",
      "\n",
      "aman\n"
     ]
    }
   ],
   "source": [
    "# libraries\n",
    "import numpy as np \n",
    "import pandas as pd \n",
    "import matplotlib.pyplot as plt\n",
    "import seaborn as sns\n",
    "from sklearn.model_selection import train_test_split\n",
    "import tensorflow as tf\n",
    "from tensorflow import keras\n",
    "from keras.datasets import mnist\n",
    "from keras.models import Sequential\n",
    "from keras.layers import Conv2D, MaxPooling2D \n",
    "from keras.layers import Dense, Dropout, Flatten \n",
    "from tensorflow.keras.layers import BatchNormalization\n",
    "from tensorflow.keras import initializers\n",
    "from keras.preprocessing.image import ImageDataGenerator\n",
    "from keras.utils import to_categorical\n",
    "from keras.callbacks import EarlyStopping\n",
    "import time\n",
    "print(\"aman\")"
   ]
  },
  {
   "cell_type": "markdown",
   "id": "64092b7a-4076-4c22-8a88-2a665f240f39",
   "metadata": {
    "jp-MarkdownHeadingCollapsed": true,
    "tags": []
   },
   "source": [
    "## Pengenalan dataset\n",
    "Dataset yang kami pakai adalah [MNIST](http://yann.lecun.com/exdb/mnist/) . Dataset ini berisi beberapa gambar angka yang ditulis tangan. Dataset ini memberikan kesempatan bagi algoritma machine learning untuk mengidentifikasi digit yang benar dari gambar-gambar tersebut. Dataset yang kami gunakan berasal langsung dari keras."
   ]
  },
  {
   "cell_type": "code",
   "execution_count": 2,
   "id": "8590500e-b079-4ad4-9ba1-f1b5537cc836",
   "metadata": {
    "tags": []
   },
   "outputs": [],
   "source": [
    "(train_images, train_labels), (test_images, test_labels) = mnist.load_data()"
   ]
  },
  {
   "cell_type": "markdown",
   "id": "facffc80-643f-4b87-985b-eb68263286dd",
   "metadata": {
    "jp-MarkdownHeadingCollapsed": true,
    "tags": []
   },
   "source": [
    "## Data Preprocessing\n",
    "Ada beberapa hal yang perlu dilakukan sebelum memproses dataset tersebut, diantaranya:\n",
    "1. Normalisasi\n",
    "2. Reshape\n",
    "3. Label encoding\n",
    "4. Train-test split"
   ]
  },
  {
   "cell_type": "markdown",
   "id": "c585228b-efbd-48f6-85cd-0e33a471505d",
   "metadata": {},
   "source": [
    "1. Data yang dimuat berada di range 0 sampai 255. Supaya CNN konvergen lebih cepat, bisa dilakukan normalisasi."
   ]
  },
  {
   "cell_type": "code",
   "execution_count": 3,
   "id": "677ed96c-b818-40b1-9f75-bc0975899ff4",
   "metadata": {
    "tags": []
   },
   "outputs": [],
   "source": [
    "train_images = train_images / 255.0\n",
    "test_images = test_images / 255.0"
   ]
  },
  {
   "cell_type": "markdown",
   "id": "8986492e-3429-44e1-a4be-6d748dd185b6",
   "metadata": {},
   "source": [
    "2. Array X akan lebih mudah divisualisasi jika direshape sebagai \"gambar\" dengan height dan width 28px beserta grayscalenya."
   ]
  },
  {
   "cell_type": "code",
   "execution_count": 4,
   "id": "58ef1c7a-eaf0-44a2-9b73-47e73db83cc5",
   "metadata": {
    "tags": []
   },
   "outputs": [
    {
     "name": "stdout",
     "output_type": "stream",
     "text": [
      "(60000, 28, 28, 1)\n"
     ]
    }
   ],
   "source": [
    "train_images = train_images.reshape((-1,28,28,1)).astype(\"float32\")\n",
    "test_images = test_images.reshape((-1,28,28,1)).astype(\"float32\")\n",
    "print(train_images.shape)"
   ]
  },
  {
   "cell_type": "markdown",
   "id": "d4c314c5-4c43-41c1-a397-48429cda7b74",
   "metadata": {},
   "source": [
    "3. Karena y (label tiap gambar) tidak memiliki relasi ordinal, maka dilakukan one-hot encoding sehingga hasil dari CNN tidak terpengaruh selisih angka."
   ]
  },
  {
   "cell_type": "code",
   "execution_count": 5,
   "id": "d1242fbf-2849-4c8d-8e04-28ac7be1ed46",
   "metadata": {
    "tags": []
   },
   "outputs": [
    {
     "name": "stdout",
     "output_type": "stream",
     "text": [
      "(60000, 10)\n"
     ]
    }
   ],
   "source": [
    "train_labels = to_categorical(train_labels)\n",
    "test_labels = to_categorical(test_labels)\n",
    "print(train_labels.shape)"
   ]
  },
  {
   "cell_type": "markdown",
   "id": "23474624-0005-4450-92be-e6406da9d3ed",
   "metadata": {},
   "source": [
    "4. Split data untuk train dan test"
   ]
  },
  {
   "cell_type": "code",
   "execution_count": 6,
   "id": "bb7e1e2e-1a51-42b6-96ad-909fdc2b73fa",
   "metadata": {},
   "outputs": [
    {
     "name": "stdout",
     "output_type": "stream",
     "text": [
      "(54000, 28, 28, 1) (6000, 28, 28, 1)\n"
     ]
    }
   ],
   "source": [
    "train_images, val_images, train_labels, val_labels = train_test_split(\n",
    "    train_images, train_labels, test_size=0.1, random_state=42\n",
    ")\n",
    "print(train_images.shape, val_images.shape)"
   ]
  },
  {
   "cell_type": "markdown",
   "id": "1a88f673-4870-4e6f-b1b3-639d9ff193d1",
   "metadata": {},
   "source": [
    "Contoh visualisasi"
   ]
  },
  {
   "cell_type": "code",
   "execution_count": 7,
   "id": "dc6e6584-1ce8-4cb2-8253-38c5ae30a863",
   "metadata": {
    "tags": []
   },
   "outputs": [
    {
     "data": {
      "image/png": "[encoded data removed]",
      "text/plain": [
       "<Figure size 2000x1000 with 5 Axes>"
      ]
     },
     "metadata": {},
     "output_type": "display_data"
    }
   ],
   "source": [
    "temp = train_images.reshape(train_images.shape[0], 28, 28)\n",
    "\n",
    "fig, axis = plt.subplots(1, 5, figsize=(20, 10))\n",
    "for i, ax in enumerate(axis.flat):\n",
    "    ax.imshow(temp[i], cmap='binary')\n",
    "    digit = train_labels[i].argmax()\n",
    "    ax.set(title = f\"Real Number is {digit}\");"
   ]
  },
  {
   "cell_type": "markdown",
   "id": "1843affb-6a75-486c-9752-481582b9a798",
   "metadata": {},
   "source": [
    "Untuk menghindari overfitting, dataset yang sudah ada diperluas dengan menggunakan data augmentation. Caranya adalah memberi sedikit variasi untuk setiap data dengan cara memperbesar/kecil, mengubah tempat, dll."
   ]
  },
  {
   "cell_type": "code",
   "execution_count": 8,
   "id": "e8f352eb-4ebf-4bfb-bdb8-5e495d73785e",
   "metadata": {
    "tags": []
   },
   "outputs": [],
   "source": [
    "datagen = ImageDataGenerator(\n",
    "        featurewise_center=False, \n",
    "        samplewise_center=False, \n",
    "        featurewise_std_normalization=False,\n",
    "        samplewise_std_normalization=False, \n",
    "        zca_whitening=False,  \n",
    "        rotation_range=15,  \n",
    "        zoom_range = 0.1, \n",
    "        width_shift_range=0.1, \n",
    "        height_shift_range=0.1, \n",
    "        horizontal_flip=False,  \n",
    "        vertical_flip=False)  \n",
    "# akan digunakan saat fitting nanti"
   ]
  },
  {
   "cell_type": "markdown",
   "id": "399aa2d5-c90e-4ca2-9bc0-c7d539fbd1c0",
   "metadata": {
    "tags": []
   },
   "source": [
    "## Metode CNN: AlexNet\n",
    "AlexNet adalah sebuah arsitektur CNN yang cukup simpel. Di sini akan diimplementasikan Alexnet dari awal menggunakan Keras Sequential API dengan cara menumpuk layer CNN satu sama lain.\n",
    "Ada beberapa jenis layer CNN di AlexNet:\n",
    "- Convolutional layer: sebuah perkalian dot product antara 2 elemen, berisi operasi convolutional antara filter dan image\n",
    "- Batch Normalisation layer: layer tambahan yang menstandarisasi dan menormalisasi nilai input\n",
    "- Max Pooling layer: mencari nilai max dari sebuah range sebagai output\n",
    "- Flatten layer: mengubah image menjadi array 1D\n",
    "- Dense layer: berisi banyak neuron"
   ]
  },
  {
   "cell_type": "code",
   "execution_count": 9,
   "id": "5b7af4cb-fdcd-4ba7-a3a2-e5a95332044b",
   "metadata": {},
   "outputs": [],
   "source": [
    "# early stopping untuk berhenti dahulu jika sudah fit\n",
    "es = EarlyStopping(\n",
    "    monitor='val_accuracy', \n",
    "    patience=3, \n",
    "    verbose=1,\n",
    "    mode=\"max\",\n",
    "    restore_best_weights=True)"
   ]
  },
  {
   "cell_type": "code",
   "execution_count": 10,
   "id": "0a78fef4-a57d-4073-a603-57294e00554c",
   "metadata": {},
   "outputs": [
    {
     "name": "stdout",
     "output_type": "stream",
     "text": [
      "WARNING:tensorflow:From C:\\Users\\Steven Adrian\\anaconda3\\envs\\islp\\Lib\\site-packages\\keras\\src\\backend.py:873: The name tf.get_default_graph is deprecated. Please use tf.compat.v1.get_default_graph instead.\n",
      "\n",
      "WARNING:tensorflow:From C:\\Users\\Steven Adrian\\anaconda3\\envs\\islp\\Lib\\site-packages\\keras\\src\\layers\\normalization\\batch_normalization.py:979: The name tf.nn.fused_batch_norm is deprecated. Please use tf.compat.v1.nn.fused_batch_norm instead.\n",
      "\n",
      "WARNING:tensorflow:From C:\\Users\\Steven Adrian\\anaconda3\\envs\\islp\\Lib\\site-packages\\keras\\src\\optimizers\\__init__.py:309: The name tf.train.Optimizer is deprecated. Please use tf.compat.v1.train.Optimizer instead.\n",
      "\n",
      "Model: \"sequential\"\n",
      "_________________________________________________________________\n",
      " Layer (type)                Output Shape              Param #   \n",
      "=================================================================\n",
      " conv2d (Conv2D)             (None, 26, 26, 64)        640       \n",
      "                                                                 \n",
      " batch_normalization (Batch  (None, 26, 26, 64)        256       \n",
      " Normalization)                                                  \n",
      "                                                                 \n",
      " conv2d_1 (Conv2D)           (None, 24, 24, 64)        36928     \n",
      "                                                                 \n",
      " batch_normalization_1 (Bat  (None, 24, 24, 64)        256       \n",
      " chNormalization)                                                \n",
      "                                                                 \n",
      " flatten (Flatten)           (None, 36864)             0         \n",
      "                                                                 \n",
      " dense (Dense)               (None, 10)                368650    \n",
      "                                                                 \n",
      "=================================================================\n",
      "Total params: 406730 (1.55 MB)\n",
      "Trainable params: 406474 (1.55 MB)\n",
      "Non-trainable params: 256 (1.00 KB)\n",
      "_________________________________________________________________\n"
     ]
    }
   ],
   "source": [
    "model=Sequential()\n",
    " \n",
    "model.add(Conv2D(filters=64, kernel_size = (3,3), strides=(1,1), activation=\"relu\", kernel_initializer='glorot_uniform', input_shape=(28,28,1)))\n",
    "model.add(BatchNormalization()) \n",
    "model.add(Conv2D(filters=64, kernel_size = (3,3), strides=(1,1), activation=\"relu\", kernel_initializer='glorot_uniform', input_shape=(28,28,1)))\n",
    "model.add(BatchNormalization())\n",
    "    \n",
    "model.add(Flatten())\n",
    "model.add(Dense(10,activation=\"softmax\"))\n",
    "    \n",
    "model.compile(loss=\"categorical_crossentropy\", optimizer=\"adam\", metrics=[\"accuracy\"])\n",
    "model.summary()"
   ]
  },
  {
   "cell_type": "code",
   "execution_count": 11,
   "id": "6ab00126-ae61-408e-986c-9297369342d1",
   "metadata": {},
   "outputs": [
    {
     "name": "stdout",
     "output_type": "stream",
     "text": [
      "Epoch 1/5\n",
      "WARNING:tensorflow:From C:\\Users\\Steven Adrian\\anaconda3\\envs\\islp\\Lib\\site-packages\\keras\\src\\utils\\tf_utils.py:492: The name tf.ragged.RaggedTensorValue is deprecated. Please use tf.compat.v1.ragged.RaggedTensorValue instead.\n",
      "\n",
      "WARNING:tensorflow:From C:\\Users\\Steven Adrian\\anaconda3\\envs\\islp\\Lib\\site-packages\\keras\\src\\engine\\base_layer_utils.py:384: The name tf.executing_eagerly_outside_functions is deprecated. Please use tf.compat.v1.executing_eagerly_outside_functions instead.\n",
      "\n",
      "844/844 [==============================] - 37s 42ms/step - loss: 0.6024 - accuracy: 0.8886 - val_loss: 0.1982 - val_accuracy: 0.9512\n",
      "Epoch 2/5\n",
      "844/844 [==============================] - 33s 39ms/step - loss: 0.2008 - accuracy: 0.9503 - val_loss: 0.2702 - val_accuracy: 0.9302\n",
      "Epoch 3/5\n",
      "844/844 [==============================] - 31s 37ms/step - loss: 0.1443 - accuracy: 0.9620 - val_loss: 0.1067 - val_accuracy: 0.9725\n",
      "Epoch 4/5\n",
      "844/844 [==============================] - 31s 36ms/step - loss: 0.1230 - accuracy: 0.9668 - val_loss: 0.1410 - val_accuracy: 0.9597\n",
      "Epoch 5/5\n",
      "844/844 [==============================] - 30s 36ms/step - loss: 0.1054 - accuracy: 0.9709 - val_loss: 0.1107 - val_accuracy: 0.9665\n"
     ]
    }
   ],
   "source": [
    "start_time = time.time()\n",
    "history = model.fit(\n",
    "    datagen.flow(train_images, train_labels, batch_size=64),\n",
    "    epochs=5,\n",
    "    validation_data=(val_images, val_labels),\n",
    "    callbacks=[es])\n",
    "duration = time.time()-start_time"
   ]
  },
  {
   "cell_type": "code",
   "execution_count": 12,
   "id": "909c2d1f-9c90-4054-99a9-67ca0f20b37d",
   "metadata": {},
   "outputs": [
    {
     "name": "stdout",
     "output_type": "stream",
     "text": [
      "313/313 [==============================] - 2s 6ms/step - loss: 0.1114 - accuracy: 0.9716\n"
     ]
    }
   ],
   "source": [
    "test_loss, test_acc = model.evaluate(test_images, test_labels)\n",
    "test_error = 1.0 - test_acc"
   ]
  },
  {
   "cell_type": "code",
   "execution_count": 13,
   "id": "9a3fa055-be9b-4319-b926-a1098c3719bc",
   "metadata": {},
   "outputs": [
    {
     "name": "stdout",
     "output_type": "stream",
     "text": [
      "Train error: 2.91%\n",
      "Test error: 2.84%\n",
      "Duration: 162.14 seconds\n"
     ]
    }
   ],
   "source": [
    "print(f\"Train error: {(1.0 - history.history['accuracy'][-1]) * 100:.2f}%\\nTest error: {test_error * 100:.2f}%\\nDuration: {duration:.2f} seconds\")"
   ]
  },
  {
   "cell_type": "code",
   "execution_count": 14,
   "id": "9043c15b-8107-4163-a760-43ee05d12593",
   "metadata": {},
   "outputs": [],
   "source": [
    "results = []\n",
    "results.append({\n",
    "    \"Configuration\": \"model\",\n",
    "    \"Train Error\": f\"{(1.0 - history.history['accuracy'][-1]) * 100:.2f}%\",\n",
    "    \"Test Error\": f\"{test_error * 100:.2f}%\",\n",
    "    \"Duration(seconds)\": f\"{duration:.2f}\"\n",
    "})"
   ]
  },
  {
   "cell_type": "markdown",
   "id": "b87ff5f7-9c43-47a8-81a3-de37ea1a68f1",
   "metadata": {},
   "source": [
    "## Konfigurasi parameter CNN\n",
    "Kami mencoba beberapa konfigurasi parameter di CNN. Diantaranya:\n",
    "- Batch Size\n",
    "- Kernel Initializer (HE/Glorot)\n",
    "- Jumlah hidden layer\n",
    "- Jumlah channels hidden layer\n",
    "- Kernel size hidden layer\n",
    "- Stride hidden layer\n",
    "- Activation function hidden layer\n",
    "- Jumlah neuron output layer\n",
    "- Activation function output layer\n",
    "- Regularization\n",
    "- Max pooling\n",
    "\n",
    "\n",
    "Data yang kami dapatkan sebagai berikut dengan implementasi di bawahnya\n",
    "| CONFIGURATION | LAYERS | REGULARIZATION | TRAIN ERROR | TEST ERROR | DURATION(seconds) |\n",
    "|---------------|--------|----------------|-------------|------------|----------|\n",
    "| Model         |Batch=64, Epoch=5,<br>C64x28x28,K=3,S=1,ReLu,Glorot<br>C64x28x28,K=3,S=1,ReLu,Glorot<br>F10,softmax,cross-entropy loss||2.91%|2.84%|162.14|\n",
    "| Conf1         |Batch=32, Epoch=5,<br>C64x28x28,K=3,S=1,ReLu,Glorot<br>C64x28x28,K=3,S=1,ReLu,Glorot<br>F10,softmax,cross-entropy loss||2.84%|2.76%|165.65|\n",
    "| Conf2         |Batch=128, Epoch=5,<br>C64x28x28,K=3,S=1,ReLu,Glorot<br>C64x28x28,K=3,S=1,ReLu,Glorot<br>F10,softmax,cross-entropy loss||2.98%|2.04%|149.57|\n",
    "| Conf3         |Batch=64, Epoch=3,<br>C64x28x28,K=3,S=1,ReLu,Glorot<br>C64x28x28,K=3,S=1,ReLu,Glorot<br>F10,softmax,cross-entropy loss||3.94%|2.57%|89.35|\n",
    "| Conf4         |Batch=64, Epoch=10,<br>C64x28x28,K=3,S=1,ReLu,Glorot<br>C64x28x28,K=3,S=1,ReLu,Glorot<br>F10,softmax,cross-entropy loss||2.02%|1.47%|295.96|\n",
    "| Conf5         |Batch=64, Epoch=5,<br>C64x28x28,K=3,S=1,ReLu,HE<br>C64x28x28,K=3,S=1,ReLu,HE<br>F10,softmax,cross-entropy loss||2.94%|2.27%|152.92|\n",
    "| Conf6         |Batch=64, Epoch=5,<br>C64x28x28,K=3,S=1,ReLu,Glorot<br>C64x28x28,K=3,S=1,ReLu,Glorot<br>C64x28x28,K=3,S=1,ReLu,Glorot<br>F10,softmax,cross-entropy loss||2.60%|1.69%|242.43|\n",
    "| Conf7         |Batch=64, Epoch=5,<br>C32x28x28,K=3,S=1,ReLu,Glorot<br>C32x28x28,K=3,S=1,ReLu,Glorot<br>F10,softmax,cross-entropy loss||2.88%|1.78%|72.46|\n",
    "| Conf8         |Batch=64, Epoch=5,<br>C128x28x28,K=3,S=1,ReLu,Glorot<br>C64x28x28,K=3,S=1,ReLu,Glorot<br>F10,softmax,cross-entropy loss||3.01%|2.21%|462.22|\n",
    "| Conf9         |Batch=64, Epoch=5,<br>C64x28x28,K=1,S=1,ReLu,Glorot<br>C64x28x28,K=1,S=1,ReLu,Glorot<br>F10,softmax,cross-entropy loss||23.27%|46.66%|115.73|\n",
    "| Conf10        |Batch=64, Epoch=5,<br>C64x28x28,K=5,S=1,ReLu,Glorot<br>C64x28x28,K=5,S=1,ReLu,Glorot<br>F10,softmax,cross-entropy loss||2.46%|1.20%|227.57|\n",
    "| Conf11        |Batch=64, Epoch=5,<br>C64x28x28,K=3,S=2,ReLu,Glorot<br>C64x28x28,K=3,S=2,ReLu,Glorot<br>F10,softmax,cross-entropy loss||2.94%|2.38%|60.68|\n",
    "| Conf12        |Batch=64, Epoch=5,<br>C64x28x28,K=3,S=3,ReLu,Glorot<br>C64x28x28,K=3,S=3,ReLu,Glorot<br>F10,softmax,cross-entropy loss||4.45%|2.12%|52.04|\n",
    "| Conf13        |Batch=64, Epoch=5,<br>C64x28x28,K=3,S=1,Sigmoid,Glorot<br>C64x28x28,K=3,S=1,Sigmoid,Glorot<br>F10,softmax,cross-entropy loss||4.50%|3.37%|159.50|\n",
    "| Conf14        |Batch=64, Epoch=5,<br>C64x28x28,K=3,S=1,Tanh,Glorot<br>C64x28x28,K=3,S=1,Tanh,Glorot<br>F10,softmax,cross-entropy loss||5.19%|5.82%|123.64|\n",
    "| Conf15        |Batch=64, Epoch=5,<br>C64x28x28,K=3,S=1,Leaky ReLu,Glorot<br>C64x28x28,K=3,S=1,Leaky ReLu,Glorot<br>F10,softmax,cross-entropy loss||3.89%|3.26%|159.73|\n",
    "| Conf16        |Batch=64, Epoch=5,<br>C64x28x28,K=3,S=1,Linear,Glorot<br>C64x28x28,K=3,S=1,Linear,Glorot<br>F10,softmax,cross-entropy loss||34.42%|17.14%|141.16|\n",
    "| Conf17        |Batch=64, Epoch=5,<br>C64x28x28,K=3,S=1,Exponential,Glorot<br>C64x28x28,K=3,S=1,Exponential,Glorot<br>F10,softmax,cross-entropy loss||4.16%|8.24%|163.43|\n",
    "| Conf18        |Batch=64, Epoch=5,<br>C64x28x28,K=3,S=1,ReLu,Glorot<br>C64x28x28,K=3,S=1,ReLu,Glorot<br>F32,ReLu,F10,softmax,cross-entropy loss||2.59%|1.52%|172.46|\n",
    "| Conf19        |Batch=64, Epoch=5,<br>C64x28x28,K=3,S=1,ReLu,Glorot<br>C64x28x28,K=3,S=1,ReLu,Glorot<br>F64,ReLu,F10,softmax,cross-entropy loss||2.31%|1.41%|207.98|\n",
    "| Conf20        |Batch=64, Epoch=5,<br>C64x28x28,K=3,S=1,ReLu,Glorot<br>C64x28x28,K=3,S=1,ReLu,Glorot<br>F128,ReLu,F10,softmax,cross-entropy loss||2.46%|1.44%|264.65|\n",
    "| Conf21        |Batch=64, Epoch=5,<br>C64x28x28,K=3,S=1,ReLu,Glorot<br>C64x28x28,K=3,S=1,ReLu,Glorot<br>F10,sigmoid,cross-entropy loss||2.81%|2.36%|149.08|\n",
    "| Conf22        |Batch=64, Epoch=5,<br>C64x28x28,K=3,S=1,ReLu,Glorot<br>C64x28x28,K=3,S=1,ReLu,Glorot<br>F10,linear,cross-entropy loss||88.25%|84.28%|149.58|\n",
    "| Conf23        |Batch=64, Epoch=5,<br>C64x28x28,K=3,S=1,ReLu,Glorot<br>C64x28x28,K=3,S=1,ReLu,Glorot<br>F10,softmax,cross-entropy loss|Dropout=0.2|3.52%|1.29%|272.95|\n",
    "| Conf24        |Batch=64, Epoch=5,<br>C64x28x28,K=3,S=1,ReLu,Glorot<br>C64x28x28,K=3,S=1,ReLu,Glorot<br>F10,softmax,cross-entropy loss|Dropout=0.5|6.09%|1.26%|277.37|\n",
    "| Conf25        |Batch=64, Epoch=5,<br>C64x28x28,K=3,S=1,ReLu,Glorot,MaxPool=2<br>C128x28x28,K=3,S=1,ReLu,Glorot,MaxPool=2<br>F10,softmax,cross-entropy loss||1.99%|1.42%|81.44|\n",
    "| Final         |Batch=32, Epoch=30,<br>C128x28x28,K=5,S=1,ReLu,He,MaxPool=2<br>C256x28x28,K=5,S=1,ReLu,He,MaxPool=2<br>C512x28x28,K=5,S=1,ReLu,He,MaxPool=2<br>F1024,ReLu,F10,softmax,cross-entropy loss|Dropout=0.2|0.93%|0.64%|1459.08|\n",
    "| Best          |Batch=32, Epoch=30,<br>C32x28x28,K=5,S=1,ReLu,He,MaxPool=2<br>C64x28x28,K=5,S=1,ReLu,He,MaxPool=2<br>C128x28x28,K=5,S=1,ReLu,He,MaxPool=2<br>F256,ReLu,F10,softmax,cross-entropy loss|Dropout=0.2|0.89%|0.60%|317.77|\n",
    "\n",
    "Dari data yang kami dapatkan, konfigurasi yang terbaik adalah Best dengan train error 0.89% dan test error 0.60%. Konfigurasi ini menggunakan beberapa layer hidden dan output dengan batch size yang kecil dan jumlah epoch yang banyak, meskipun terjadi early stop. Jumlah feature yang digunakan lebih sedikit karena MNIST bukanlah data yang kompleks sehingga dapat menghindari overfitting, dengan kernel yang cukup besar dan stride 1. Activation function yang digunakan adalah ReLu dan SoftMax yang memang cocok untuk masalah ini, dengan initialization HE untuk problem klasifikasi dibandingkan glorot. Di dalam model, dilakukan beberapa kali max pooling dan penambahan fitur setiap maxpool untuk memperbagus hasil, dan juga dilakukan reguralization dropout satu kali."
   ]
  },
  {
   "cell_type": "code",
   "execution_count": 15,
   "id": "97e43b28-6004-4154-ae64-3f2b4d3be14c",
   "metadata": {},
   "outputs": [
    {
     "name": "stdout",
     "output_type": "stream",
     "text": [
      "Epoch 1/5\n",
      "1688/1688 [==============================] - 33s 19ms/step - loss: 0.6199 - accuracy: 0.8925 - val_loss: 0.5378 - val_accuracy: 0.8925\n",
      "Epoch 2/5\n",
      "1688/1688 [==============================] - 32s 19ms/step - loss: 0.1940 - accuracy: 0.9526 - val_loss: 0.1250 - val_accuracy: 0.9688\n",
      "Epoch 3/5\n",
      "1688/1688 [==============================] - 32s 19ms/step - loss: 0.1391 - accuracy: 0.9632 - val_loss: 0.0928 - val_accuracy: 0.9723\n",
      "Epoch 4/5\n",
      "1688/1688 [==============================] - 36s 21ms/step - loss: 0.1086 - accuracy: 0.9684 - val_loss: 0.0918 - val_accuracy: 0.9718\n",
      "Epoch 5/5\n",
      "1688/1688 [==============================] - 32s 19ms/step - loss: 0.0940 - accuracy: 0.9716 - val_loss: 0.0939 - val_accuracy: 0.9718\n",
      "313/313 [==============================] - 2s 6ms/step - loss: 0.0851 - accuracy: 0.9724\n",
      "Train error: 2.84%\n",
      "Test error: 2.76%\n",
      "Duration: 165.65 seconds\n"
     ]
    }
   ],
   "source": [
    "conf1=Sequential()\n",
    " \n",
    "conf1.add(Conv2D(filters=64, kernel_size = (3,3), strides=(1,1), activation=\"relu\", kernel_initializer='glorot_uniform', input_shape=(28,28,1)))\n",
    "conf1.add(BatchNormalization())\n",
    "conf1.add(Conv2D(filters=64, kernel_size = (3,3), strides=(1,1), activation=\"relu\", kernel_initializer='glorot_uniform'))\n",
    "conf1.add(BatchNormalization())\n",
    "    \n",
    "conf1.add(Flatten())\n",
    "conf1.add(Dense(10,activation=\"softmax\"))\n",
    "    \n",
    "conf1.compile(loss=\"categorical_crossentropy\", optimizer=\"adam\", metrics=[\"accuracy\"])\n",
    "\n",
    "start_time = time.time()\n",
    "history = conf1.fit(\n",
    "    datagen.flow(train_images, train_labels, batch_size=32),\n",
    "    epochs=5,\n",
    "    validation_data=(val_images, val_labels),\n",
    "    callbacks=[es])\n",
    "duration = time.time()-start_time\n",
    "\n",
    "test_loss, test_acc = conf1.evaluate(test_images, test_labels)\n",
    "test_error = 1.0 - test_acc\n",
    "\n",
    "results.append({\n",
    "    \"Configuration\": \"conf1\",\n",
    "    \"Train Error\": f\"{(1.0 - history.history['accuracy'][-1]) * 100:.2f}%\",\n",
    "    \"Test Error\": f\"{test_error * 100:.2f}%\",\n",
    "    \"Duration(seconds)\": f\"{duration:.2f}\"\n",
    "})\n",
    "print(f\"Train error: {(1.0 - history.history['accuracy'][-1]) * 100:.2f}%\\nTest error: {test_error * 100:.2f}%\\nDuration: {duration:.2f} seconds\")"
   ]
  },
  {
   "cell_type": "code",
   "execution_count": 16,
   "id": "bebf2e90-032a-4124-87c1-6aa95ee073f2",
   "metadata": {},
   "outputs": [
    {
     "name": "stdout",
     "output_type": "stream",
     "text": [
      "Epoch 1/5\n",
      "422/422 [==============================] - 32s 73ms/step - loss: 0.6664 - accuracy: 0.8774 - val_loss: 4.9699 - val_accuracy: 0.0975\n",
      "Epoch 2/5\n",
      "422/422 [==============================] - 30s 72ms/step - loss: 0.2374 - accuracy: 0.9461 - val_loss: 0.5460 - val_accuracy: 0.8593\n",
      "Epoch 3/5\n",
      "422/422 [==============================] - 29s 69ms/step - loss: 0.1604 - accuracy: 0.9612 - val_loss: 0.5122 - val_accuracy: 0.8692\n",
      "Epoch 4/5\n",
      "422/422 [==============================] - 29s 69ms/step - loss: 0.1283 - accuracy: 0.9677 - val_loss: 0.0988 - val_accuracy: 0.9748\n",
      "Epoch 5/5\n",
      "422/422 [==============================] - 29s 69ms/step - loss: 0.1133 - accuracy: 0.9702 - val_loss: 0.1117 - val_accuracy: 0.9760\n",
      "313/313 [==============================] - 2s 6ms/step - loss: 0.0785 - accuracy: 0.9796\n",
      "Train error: 2.98%\n",
      "Test error: 2.04%\n",
      "Duration: 149.57 seconds\n"
     ]
    }
   ],
   "source": [
    "conf2=Sequential()\n",
    " \n",
    "conf2.add(Conv2D(filters=64, kernel_size = (3,3), strides=(1,1), activation=\"relu\", kernel_initializer='glorot_uniform', input_shape=(28,28,1)))\n",
    "conf2.add(BatchNormalization())\n",
    "conf2.add(Conv2D(filters=64, kernel_size = (3,3), strides=(1,1), activation=\"relu\", kernel_initializer='glorot_uniform'))\n",
    "conf2.add(BatchNormalization())\n",
    "    \n",
    "conf2.add(Flatten())\n",
    "conf2.add(Dense(10,activation=\"softmax\"))\n",
    "    \n",
    "conf2.compile(loss=\"categorical_crossentropy\", optimizer=\"adam\", metrics=[\"accuracy\"])\n",
    "\n",
    "start_time = time.time()\n",
    "history = conf2.fit(\n",
    "    datagen.flow(train_images, train_labels, batch_size=128),\n",
    "    epochs=5,\n",
    "    validation_data=(val_images, val_labels),\n",
    "    callbacks=[es])\n",
    "duration = time.time()-start_time\n",
    "\n",
    "test_loss, test_acc = conf2.evaluate(test_images, test_labels)\n",
    "test_error = 1.0 - test_acc\n",
    "\n",
    "results.append({\n",
    "    \"Configuration\": \"conf2\",\n",
    "    \"Train Error\": f\"{(1.0 - history.history['accuracy'][-1]) * 100:.2f}%\",\n",
    "    \"Test Error\": f\"{test_error * 100:.2f}%\",\n",
    "    \"Duration(seconds)\": f\"{duration:.2f}\"\n",
    "})\n",
    "print(f\"Train error: {(1.0 - history.history['accuracy'][-1]) * 100:.2f}%\\nTest error: {test_error * 100:.2f}%\\nDuration: {duration:.2f} seconds\")"
   ]
  },
  {
   "cell_type": "code",
   "execution_count": 17,
   "id": "ba082e84-e55a-4c7e-aa35-763a3bc680a1",
   "metadata": {},
   "outputs": [
    {
     "name": "stdout",
     "output_type": "stream",
     "text": [
      "Epoch 1/3\n",
      "844/844 [==============================] - 30s 35ms/step - loss: 0.7542 - accuracy: 0.8820 - val_loss: 0.2487 - val_accuracy: 0.9502\n",
      "Epoch 2/3\n",
      "844/844 [==============================] - 29s 35ms/step - loss: 0.2259 - accuracy: 0.9500 - val_loss: 0.1294 - val_accuracy: 0.9737\n",
      "Epoch 3/3\n",
      "844/844 [==============================] - 29s 35ms/step - loss: 0.1612 - accuracy: 0.9606 - val_loss: 0.1207 - val_accuracy: 0.9703\n",
      "313/313 [==============================] - 2s 5ms/step - loss: 0.0955 - accuracy: 0.9743\n",
      "Train error: 3.94%\n",
      "Test error: 2.57%\n",
      "Duration: 89.35 seconds\n"
     ]
    }
   ],
   "source": [
    "conf3=Sequential()\n",
    " \n",
    "conf3.add(Conv2D(filters=64, kernel_size = (3,3), strides=(1,1), activation=\"relu\", kernel_initializer='glorot_uniform', input_shape=(28,28,1)))\n",
    "conf3.add(BatchNormalization())\n",
    "conf3.add(Conv2D(filters=64, kernel_size = (3,3), strides=(1,1), activation=\"relu\", kernel_initializer='glorot_uniform'))\n",
    "conf3.add(BatchNormalization())\n",
    "    \n",
    "conf3.add(Flatten())\n",
    "conf3.add(Dense(10,activation=\"softmax\"))\n",
    "    \n",
    "conf3.compile(loss=\"categorical_crossentropy\", optimizer=\"adam\", metrics=[\"accuracy\"])\n",
    "\n",
    "start_time = time.time()\n",
    "history = conf3.fit(\n",
    "    datagen.flow(train_images, train_labels, batch_size=64),\n",
    "    epochs=3,\n",
    "    validation_data=(val_images, val_labels),\n",
    "    callbacks=[es])\n",
    "duration = time.time()-start_time\n",
    "\n",
    "test_loss, test_acc = conf3.evaluate(test_images, test_labels)\n",
    "test_error = 1.0 - test_acc\n",
    "\n",
    "results.append({\n",
    "    \"Configuration\": \"conf3\",\n",
    "    \"Train Error\": f\"{(1.0 - history.history['accuracy'][-1]) * 100:.2f}%\",\n",
    "    \"Test Error\": f\"{test_error * 100:.2f}%\",\n",
    "    \"Duration(seconds)\": f\"{duration:.2f}\"\n",
    "})\n",
    "print(f\"Train error: {(1.0 - history.history['accuracy'][-1]) * 100:.2f}%\\nTest error: {test_error * 100:.2f}%\\nDuration: {duration:.2f} seconds\")"
   ]
  },
  {
   "cell_type": "code",
   "execution_count": 18,
   "id": "e94a069c-78bb-4fe8-b50d-e1faa3911ef6",
   "metadata": {},
   "outputs": [
    {
     "name": "stdout",
     "output_type": "stream",
     "text": [
      "Epoch 1/10\n",
      "844/844 [==============================] - 30s 35ms/step - loss: 0.6200 - accuracy: 0.8868 - val_loss: 0.1838 - val_accuracy: 0.9540\n",
      "Epoch 2/10\n",
      "844/844 [==============================] - 30s 35ms/step - loss: 0.2089 - accuracy: 0.9491 - val_loss: 0.1256 - val_accuracy: 0.9692\n",
      "Epoch 3/10\n",
      "844/844 [==============================] - 30s 35ms/step - loss: 0.1517 - accuracy: 0.9623 - val_loss: 0.1117 - val_accuracy: 0.9737\n",
      "Epoch 4/10\n",
      "844/844 [==============================] - 29s 35ms/step - loss: 0.1289 - accuracy: 0.9665 - val_loss: 0.0928 - val_accuracy: 0.9748\n",
      "Epoch 5/10\n",
      "844/844 [==============================] - 29s 35ms/step - loss: 0.1061 - accuracy: 0.9711 - val_loss: 0.0787 - val_accuracy: 0.9805\n",
      "Epoch 6/10\n",
      "844/844 [==============================] - 29s 35ms/step - loss: 0.0972 - accuracy: 0.9728 - val_loss: 0.0695 - val_accuracy: 0.9813\n",
      "Epoch 7/10\n",
      "844/844 [==============================] - 29s 35ms/step - loss: 0.0797 - accuracy: 0.9764 - val_loss: 0.1170 - val_accuracy: 0.9727\n",
      "Epoch 8/10\n",
      "844/844 [==============================] - 30s 35ms/step - loss: 0.0770 - accuracy: 0.9772 - val_loss: 0.0447 - val_accuracy: 0.9878\n",
      "Epoch 9/10\n",
      "844/844 [==============================] - 30s 35ms/step - loss: 0.0683 - accuracy: 0.9795 - val_loss: 0.0651 - val_accuracy: 0.9813\n",
      "Epoch 10/10\n",
      "844/844 [==============================] - 29s 35ms/step - loss: 0.0699 - accuracy: 0.9798 - val_loss: 0.0639 - val_accuracy: 0.9823\n",
      "313/313 [==============================] - 2s 5ms/step - loss: 0.0534 - accuracy: 0.9853\n",
      "Train error: 2.02%\n",
      "Test error: 1.47%\n",
      "Duration: 295.96 seconds\n"
     ]
    }
   ],
   "source": [
    "conf4=Sequential()\n",
    " \n",
    "conf4.add(Conv2D(filters=64, kernel_size = (3,3), strides=(1,1), activation=\"relu\", kernel_initializer='glorot_uniform', input_shape=(28,28,1)))\n",
    "conf4.add(BatchNormalization())\n",
    "conf4.add(Conv2D(filters=64, kernel_size = (3,3), strides=(1,1), activation=\"relu\", kernel_initializer='glorot_uniform'))\n",
    "conf4.add(BatchNormalization())\n",
    "    \n",
    "conf4.add(Flatten())\n",
    "conf4.add(Dense(10,activation=\"softmax\"))\n",
    "    \n",
    "conf4.compile(loss=\"categorical_crossentropy\", optimizer=\"adam\", metrics=[\"accuracy\"])\n",
    "\n",
    "start_time = time.time()\n",
    "history = conf4.fit(\n",
    "    datagen.flow(train_images, train_labels, batch_size=64),\n",
    "    epochs=10,\n",
    "    validation_data=(val_images, val_labels),\n",
    "    callbacks=[es])\n",
    "duration = time.time()-start_time\n",
    "\n",
    "test_loss, test_acc = conf4.evaluate(test_images, test_labels)\n",
    "test_error = 1.0 - test_acc\n",
    "\n",
    "results.append({\n",
    "    \"Configuration\": \"conf4\",\n",
    "    \"Train Error\": f\"{(1.0 - history.history['accuracy'][-1]) * 100:.2f}%\",\n",
    "    \"Test Error\": f\"{test_error * 100:.2f}%\",\n",
    "    \"Duration(seconds)\": f\"{duration:.2f}\"\n",
    "})\n",
    "print(f\"Train error: {(1.0 - history.history['accuracy'][-1]) * 100:.2f}%\\nTest error: {test_error * 100:.2f}%\\nDuration: {duration:.2f} seconds\")"
   ]
  },
  {
   "cell_type": "code",
   "execution_count": 19,
   "id": "d71d022a-8248-43f3-a307-6b0031d81559",
   "metadata": {},
   "outputs": [
    {
     "name": "stdout",
     "output_type": "stream",
     "text": [
      "Epoch 1/5\n",
      "844/844 [==============================] - 32s 37ms/step - loss: 0.7866 - accuracy: 0.8844 - val_loss: 0.2926 - val_accuracy: 0.9548\n",
      "Epoch 2/5\n",
      "844/844 [==============================] - 31s 36ms/step - loss: 0.3035 - accuracy: 0.9484 - val_loss: 0.1913 - val_accuracy: 0.9655\n",
      "Epoch 3/5\n",
      "844/844 [==============================] - 30s 36ms/step - loss: 0.1985 - accuracy: 0.9592 - val_loss: 0.1114 - val_accuracy: 0.9778\n",
      "Epoch 4/5\n",
      "844/844 [==============================] - 30s 36ms/step - loss: 0.1497 - accuracy: 0.9661 - val_loss: 0.1265 - val_accuracy: 0.9708\n",
      "Epoch 5/5\n",
      "844/844 [==============================] - 30s 36ms/step - loss: 0.1179 - accuracy: 0.9706 - val_loss: 0.0972 - val_accuracy: 0.9768\n",
      "313/313 [==============================] - 2s 6ms/step - loss: 0.0833 - accuracy: 0.9773\n",
      "Train error: 2.94%\n",
      "Test error: 2.27%\n",
      "Duration: 152.92 seconds\n"
     ]
    }
   ],
   "source": [
    "conf5=Sequential()\n",
    " \n",
    "conf5.add(Conv2D(filters=64, kernel_size = (3,3), strides=(1,1), activation=\"relu\", kernel_initializer='he_uniform', input_shape=(28,28,1)))\n",
    "conf5.add(BatchNormalization())\n",
    "conf5.add(Conv2D(filters=64, kernel_size = (3,3), strides=(1,1), activation=\"relu\", kernel_initializer='he_uniform'))\n",
    "conf5.add(BatchNormalization())\n",
    "    \n",
    "conf5.add(Flatten())\n",
    "conf5.add(Dense(10,activation=\"softmax\"))\n",
    "    \n",
    "conf5.compile(loss=\"categorical_crossentropy\", optimizer=\"adam\", metrics=[\"accuracy\"])\n",
    "\n",
    "start_time = time.time()\n",
    "history = conf5.fit(\n",
    "    datagen.flow(train_images, train_labels, batch_size=64),\n",
    "    epochs=5,\n",
    "    validation_data=(val_images, val_labels),\n",
    "    callbacks=[es])\n",
    "duration = time.time()-start_time\n",
    "\n",
    "test_loss, test_acc = conf5.evaluate(test_images, test_labels)\n",
    "test_error = 1.0 - test_acc\n",
    "\n",
    "results.append({\n",
    "    \"Configuration\": \"conf5\",\n",
    "    \"Train Error\": f\"{(1.0 - history.history['accuracy'][-1]) * 100:.2f}%\",\n",
    "    \"Test Error\": f\"{test_error * 100:.2f}%\",\n",
    "    \"Duration(seconds)\": f\"{duration:.2f}\"\n",
    "})\n",
    "print(f\"Train error: {(1.0 - history.history['accuracy'][-1]) * 100:.2f}%\\nTest error: {test_error * 100:.2f}%\\nDuration: {duration:.2f} seconds\")"
   ]
  },
  {
   "cell_type": "code",
   "execution_count": 20,
   "id": "85173590-2e1e-409f-8a60-a6b5cf71486f",
   "metadata": {},
   "outputs": [
    {
     "name": "stdout",
     "output_type": "stream",
     "text": [
      "Epoch 1/5\n",
      "844/844 [==============================] - 48s 56ms/step - loss: 0.7272 - accuracy: 0.8927 - val_loss: 0.2620 - val_accuracy: 0.9595\n",
      "Epoch 2/5\n",
      "844/844 [==============================] - 47s 56ms/step - loss: 0.3282 - accuracy: 0.9522 - val_loss: 0.2848 - val_accuracy: 0.9647\n",
      "Epoch 3/5\n",
      "844/844 [==============================] - 51s 60ms/step - loss: 0.2094 - accuracy: 0.9639 - val_loss: 0.1085 - val_accuracy: 0.9803\n",
      "Epoch 4/5\n",
      "844/844 [==============================] - 49s 58ms/step - loss: 0.1445 - accuracy: 0.9710 - val_loss: 0.1156 - val_accuracy: 0.9747\n",
      "Epoch 5/5\n",
      "844/844 [==============================] - 47s 56ms/step - loss: 0.1157 - accuracy: 0.9740 - val_loss: 0.0689 - val_accuracy: 0.9838\n",
      "313/313 [==============================] - 3s 9ms/step - loss: 0.0687 - accuracy: 0.9831\n",
      "Train error: 2.60%\n",
      "Test error: 1.69%\n",
      "Duration: 242.43 seconds\n"
     ]
    }
   ],
   "source": [
    "conf6=Sequential()\n",
    " \n",
    "conf6.add(Conv2D(filters=64, kernel_size = (3,3), strides=(1,1), activation=\"relu\", kernel_initializer='glorot_uniform', input_shape=(28,28,1)))\n",
    "conf6.add(BatchNormalization())\n",
    "conf6.add(Conv2D(filters=64, kernel_size = (3,3), strides=(1,1), activation=\"relu\", kernel_initializer='glorot_uniform', input_shape=(28,28,1)))\n",
    "conf6.add(BatchNormalization())\n",
    "conf6.add(Conv2D(filters=64, kernel_size = (3,3), strides=(1,1), activation=\"relu\", kernel_initializer='glorot_uniform'))\n",
    "conf6.add(BatchNormalization())\n",
    "    \n",
    "conf6.add(Flatten())\n",
    "conf6.add(Dense(10,activation=\"softmax\"))\n",
    "    \n",
    "conf6.compile(loss=\"categorical_crossentropy\", optimizer=\"adam\", metrics=[\"accuracy\"])\n",
    "\n",
    "start_time = time.time()\n",
    "history = conf6.fit(\n",
    "    datagen.flow(train_images, train_labels, batch_size=64),\n",
    "    epochs=5,\n",
    "    validation_data=(val_images, val_labels),\n",
    "    callbacks=[es])\n",
    "duration = time.time()-start_time\n",
    "\n",
    "test_loss, test_acc = conf6.evaluate(test_images, test_labels)\n",
    "test_error = 1.0 - test_acc\n",
    "\n",
    "results.append({\n",
    "    \"Configuration\": \"conf6\",\n",
    "    \"Train Error\": f\"{(1.0 - history.history['accuracy'][-1]) * 100:.2f}%\",\n",
    "    \"Test Error\": f\"{test_error * 100:.2f}%\",\n",
    "    \"Duration(seconds)\": f\"{duration:.2f}\"\n",
    "})\n",
    "print(f\"Train error: {(1.0 - history.history['accuracy'][-1]) * 100:.2f}%\\nTest error: {test_error * 100:.2f}%\\nDuration: {duration:.2f} seconds\")"
   ]
  },
  {
   "cell_type": "code",
   "execution_count": 21,
   "id": "8e89aea7-76cc-4b7b-b924-39e71a157f50",
   "metadata": {},
   "outputs": [
    {
     "name": "stdout",
     "output_type": "stream",
     "text": [
      "Epoch 1/5\n",
      "844/844 [==============================] - 15s 17ms/step - loss: 0.4641 - accuracy: 0.8897 - val_loss: 0.1287 - val_accuracy: 0.9657\n",
      "Epoch 2/5\n",
      "844/844 [==============================] - 14s 17ms/step - loss: 0.2057 - accuracy: 0.9476 - val_loss: 0.2734 - val_accuracy: 0.9167\n",
      "Epoch 3/5\n",
      "844/844 [==============================] - 14s 17ms/step - loss: 0.1462 - accuracy: 0.9599 - val_loss: 0.1466 - val_accuracy: 0.9650\n",
      "Epoch 4/5\n",
      "844/844 [==============================] - 14s 17ms/step - loss: 0.1161 - accuracy: 0.9673 - val_loss: 0.0912 - val_accuracy: 0.9717\n",
      "Epoch 5/5\n",
      "844/844 [==============================] - 14s 17ms/step - loss: 0.1010 - accuracy: 0.9712 - val_loss: 0.0661 - val_accuracy: 0.9812\n",
      "313/313 [==============================] - 1s 3ms/step - loss: 0.0615 - accuracy: 0.9822\n",
      "Train error: 2.88%\n",
      "Test error: 1.78%\n",
      "Duration: 72.46 seconds\n"
     ]
    }
   ],
   "source": [
    "conf7=Sequential()\n",
    " \n",
    "conf7.add(Conv2D(filters=32, kernel_size = (3,3), strides=(1,1), activation=\"relu\", kernel_initializer='glorot_uniform', input_shape=(28,28,1)))\n",
    "conf7.add(BatchNormalization())\n",
    "conf7.add(Conv2D(filters=32, kernel_size = (3,3), strides=(1,1), activation=\"relu\", kernel_initializer='glorot_uniform'))\n",
    "conf7.add(BatchNormalization())\n",
    "    \n",
    "conf7.add(Flatten())\n",
    "conf7.add(Dense(10,activation=\"softmax\"))\n",
    "    \n",
    "conf7.compile(loss=\"categorical_crossentropy\", optimizer=\"adam\", metrics=[\"accuracy\"])\n",
    "\n",
    "start_time = time.time()\n",
    "history = conf7.fit(\n",
    "    datagen.flow(train_images, train_labels, batch_size=64),\n",
    "    epochs=5,\n",
    "    validation_data=(val_images, val_labels),\n",
    "    callbacks=[es])\n",
    "duration = time.time()-start_time\n",
    "\n",
    "test_loss, test_acc = conf7.evaluate(test_images, test_labels)\n",
    "test_error = 1.0 - test_acc\n",
    "\n",
    "results.append({\n",
    "    \"Configuration\": \"conf7\",\n",
    "    \"Train Error\": f\"{(1.0 - history.history['accuracy'][-1]) * 100:.2f}%\",\n",
    "    \"Test Error\": f\"{test_error * 100:.2f}%\",\n",
    "    \"Duration(seconds)\": f\"{duration:.2f}\"\n",
    "})\n",
    "print(f\"Train error: {(1.0 - history.history['accuracy'][-1]) * 100:.2f}%\\nTest error: {test_error * 100:.2f}%\\nDuration: {duration:.2f} seconds\")"
   ]
  },
  {
   "cell_type": "code",
   "execution_count": 22,
   "id": "95062a10-d7b7-4bc4-81af-334b2a3d7909",
   "metadata": {},
   "outputs": [
    {
     "name": "stdout",
     "output_type": "stream",
     "text": [
      "Epoch 1/5\n",
      "844/844 [==============================] - 93s 110ms/step - loss: 1.0919 - accuracy: 0.8794 - val_loss: 0.7839 - val_accuracy: 0.8387\n",
      "Epoch 2/5\n",
      "844/844 [==============================] - 92s 109ms/step - loss: 0.2203 - accuracy: 0.9487 - val_loss: 0.1800 - val_accuracy: 0.9585\n",
      "Epoch 3/5\n",
      "844/844 [==============================] - 93s 110ms/step - loss: 0.1594 - accuracy: 0.9602 - val_loss: 0.1198 - val_accuracy: 0.9730\n",
      "Epoch 4/5\n",
      "844/844 [==============================] - 92s 109ms/step - loss: 0.1270 - accuracy: 0.9664 - val_loss: 0.1425 - val_accuracy: 0.9677\n",
      "Epoch 5/5\n",
      "844/844 [==============================] - 92s 109ms/step - loss: 0.1105 - accuracy: 0.9699 - val_loss: 0.0969 - val_accuracy: 0.9772\n",
      "313/313 [==============================] - 5s 17ms/step - loss: 0.0941 - accuracy: 0.9779\n",
      "Train error: 3.01%\n",
      "Test error: 2.21%\n",
      "Duration: 462.22 seconds\n"
     ]
    }
   ],
   "source": [
    "conf8=Sequential()\n",
    " \n",
    "conf8.add(Conv2D(filters=128, kernel_size = (3,3), strides=(1,1), activation=\"relu\", kernel_initializer='glorot_uniform', input_shape=(28,28,1)))\n",
    "conf8.add(BatchNormalization())\n",
    "conf8.add(Conv2D(filters=128, kernel_size = (3,3), strides=(1,1), activation=\"relu\", kernel_initializer='glorot_uniform'))\n",
    "conf8.add(BatchNormalization())\n",
    "    \n",
    "conf8.add(Flatten())\n",
    "conf8.add(Dense(10,activation=\"softmax\"))\n",
    "    \n",
    "conf8.compile(loss=\"categorical_crossentropy\", optimizer=\"adam\", metrics=[\"accuracy\"])\n",
    "\n",
    "start_time = time.time()\n",
    "history = conf8.fit(\n",
    "    datagen.flow(train_images, train_labels, batch_size=64),\n",
    "    epochs=5,\n",
    "    validation_data=(val_images, val_labels),\n",
    "    callbacks=[es])\n",
    "duration = time.time()-start_time\n",
    "\n",
    "test_loss, test_acc = conf8.evaluate(test_images, test_labels)\n",
    "test_error = 1.0 - test_acc\n",
    "\n",
    "results.append({\n",
    "    \"Configuration\": \"conf8\",\n",
    "    \"Train Error\": f\"{(1.0 - history.history['accuracy'][-1]) * 100:.2f}%\",\n",
    "    \"Test Error\": f\"{test_error * 100:.2f}%\",\n",
    "    \"Duration(seconds)\": f\"{duration:.2f}\"\n",
    "})\n",
    "print(f\"Train error: {(1.0 - history.history['accuracy'][-1]) * 100:.2f}%\\nTest error: {test_error * 100:.2f}%\\nDuration: {duration:.2f} seconds\")"
   ]
  },
  {
   "cell_type": "code",
   "execution_count": 23,
   "id": "a29fce52-a598-401e-b862-a7bd53cf930f",
   "metadata": {},
   "outputs": [
    {
     "name": "stdout",
     "output_type": "stream",
     "text": [
      "Epoch 1/5\n",
      "844/844 [==============================] - 23s 26ms/step - loss: 1.2110 - accuracy: 0.6591 - val_loss: 4.2552 - val_accuracy: 0.1435\n",
      "Epoch 2/5\n",
      "844/844 [==============================] - 23s 27ms/step - loss: 0.8874 - accuracy: 0.7271 - val_loss: 2.7222 - val_accuracy: 0.3842\n",
      "Epoch 3/5\n",
      "844/844 [==============================] - 23s 27ms/step - loss: 0.8312 - accuracy: 0.7480 - val_loss: 1.2527 - val_accuracy: 0.6245\n",
      "Epoch 4/5\n",
      "844/844 [==============================] - 23s 28ms/step - loss: 0.7864 - accuracy: 0.7603 - val_loss: 1.1585 - val_accuracy: 0.6435\n",
      "Epoch 5/5\n",
      "844/844 [==============================] - 24s 28ms/step - loss: 0.7685 - accuracy: 0.7673 - val_loss: 1.6613 - val_accuracy: 0.5380\n",
      "313/313 [==============================] - 1s 4ms/step - loss: 1.6629 - accuracy: 0.5334\n",
      "Train error: 23.27%\n",
      "Test error: 46.66%\n",
      "Duration: 115.73 seconds\n"
     ]
    }
   ],
   "source": [
    "conf9=Sequential()\n",
    " \n",
    "conf9.add(Conv2D(filters=64, kernel_size = (1,1), strides=(1,1), activation=\"relu\", kernel_initializer='glorot_uniform', input_shape=(28,28,1)))\n",
    "conf9.add(BatchNormalization())\n",
    "conf9.add(Conv2D(filters=64, kernel_size = (1,1), strides=(1,1), activation=\"relu\", kernel_initializer='glorot_uniform'))\n",
    "conf9.add(BatchNormalization())\n",
    "    \n",
    "conf9.add(Flatten())\n",
    "conf9.add(Dense(10,activation=\"softmax\"))\n",
    "    \n",
    "conf9.compile(loss=\"categorical_crossentropy\", optimizer=\"adam\", metrics=[\"accuracy\"])\n",
    "\n",
    "start_time = time.time()\n",
    "history = conf9.fit(\n",
    "    datagen.flow(train_images, train_labels, batch_size=64),\n",
    "    epochs=5,\n",
    "    validation_data=(val_images, val_labels),\n",
    "    callbacks=[es])\n",
    "duration = time.time()-start_time\n",
    "\n",
    "test_loss, test_acc = conf9.evaluate(test_images, test_labels)\n",
    "test_error = 1.0 - test_acc\n",
    "\n",
    "results.append({\n",
    "    \"Configuration\": \"conf9\",\n",
    "    \"Train Error\": f\"{(1.0 - history.history['accuracy'][-1]) * 100:.2f}%\",\n",
    "    \"Test Error\": f\"{test_error * 100:.2f}%\",\n",
    "    \"Duration(seconds)\": f\"{duration:.2f}\"\n",
    "})\n",
    "print(f\"Train error: {(1.0 - history.history['accuracy'][-1]) * 100:.2f}%\\nTest error: {test_error * 100:.2f}%\\nDuration: {duration:.2f} seconds\")"
   ]
  },
  {
   "cell_type": "code",
   "execution_count": 24,
   "id": "c35731bf-6c0e-401d-94d0-5230cf5135a9",
   "metadata": {},
   "outputs": [
    {
     "name": "stdout",
     "output_type": "stream",
     "text": [
      "Epoch 1/5\n",
      "844/844 [==============================] - 46s 54ms/step - loss: 0.5463 - accuracy: 0.9064 - val_loss: 0.6315 - val_accuracy: 0.8905\n",
      "Epoch 2/5\n",
      "844/844 [==============================] - 46s 54ms/step - loss: 0.2340 - accuracy: 0.9584 - val_loss: 0.1945 - val_accuracy: 0.9693\n",
      "Epoch 3/5\n",
      "844/844 [==============================] - 46s 54ms/step - loss: 0.1720 - accuracy: 0.9653 - val_loss: 0.1077 - val_accuracy: 0.9763\n",
      "Epoch 4/5\n",
      "844/844 [==============================] - 45s 53ms/step - loss: 0.1243 - accuracy: 0.9729 - val_loss: 0.1138 - val_accuracy: 0.9782\n",
      "Epoch 5/5\n",
      "844/844 [==============================] - 45s 53ms/step - loss: 0.1137 - accuracy: 0.9754 - val_loss: 0.0564 - val_accuracy: 0.9882\n",
      "313/313 [==============================] - 3s 9ms/step - loss: 0.0465 - accuracy: 0.9880\n",
      "Train error: 2.46%\n",
      "Test error: 1.20%\n",
      "Duration: 227.57 seconds\n"
     ]
    }
   ],
   "source": [
    "conf10=Sequential()\n",
    " \n",
    "conf10.add(Conv2D(filters=64, kernel_size = (5,5), strides=(1,1), activation=\"relu\", kernel_initializer='glorot_uniform', input_shape=(28,28,1)))\n",
    "conf10.add(BatchNormalization())\n",
    "conf10.add(Conv2D(filters=64, kernel_size = (5,5), strides=(1,1), activation=\"relu\", kernel_initializer='glorot_uniform'))\n",
    "conf10.add(BatchNormalization())\n",
    "    \n",
    "conf10.add(Flatten())\n",
    "conf10.add(Dense(10,activation=\"softmax\"))\n",
    "    \n",
    "conf10.compile(loss=\"categorical_crossentropy\", optimizer=\"adam\", metrics=[\"accuracy\"])\n",
    "\n",
    "start_time = time.time()\n",
    "history = conf10.fit(\n",
    "    datagen.flow(train_images, train_labels, batch_size=64),\n",
    "    epochs=5,\n",
    "    validation_data=(val_images, val_labels),\n",
    "    callbacks=[es])\n",
    "duration = time.time()-start_time\n",
    "\n",
    "test_loss, test_acc = conf10.evaluate(test_images, test_labels)\n",
    "test_error = 1.0 - test_acc\n",
    "\n",
    "results.append({\n",
    "    \"Configuration\": \"conf10\",\n",
    "    \"Train Error\": f\"{(1.0 - history.history['accuracy'][-1]) * 100:.2f}%\",\n",
    "    \"Test Error\": f\"{test_error * 100:.2f}%\",\n",
    "    \"Duration(seconds)\": f\"{duration:.2f}\"\n",
    "})\n",
    "print(f\"Train error: {(1.0 - history.history['accuracy'][-1]) * 100:.2f}%\\nTest error: {test_error * 100:.2f}%\\nDuration: {duration:.2f} seconds\")"
   ]
  },
  {
   "cell_type": "code",
   "execution_count": 25,
   "id": "a07c0b26-cc68-418f-898c-d72f41c719e0",
   "metadata": {
    "tags": []
   },
   "outputs": [
    {
     "name": "stdout",
     "output_type": "stream",
     "text": [
      "Epoch 1/5\n",
      "844/844 [==============================] - 14s 15ms/step - loss: 0.3421 - accuracy: 0.8928 - val_loss: 0.1137 - val_accuracy: 0.9628\n",
      "Epoch 2/5\n",
      "844/844 [==============================] - 12s 14ms/step - loss: 0.1542 - accuracy: 0.9533 - val_loss: 0.0856 - val_accuracy: 0.9737\n",
      "Epoch 3/5\n",
      "844/844 [==============================] - 12s 14ms/step - loss: 0.1236 - accuracy: 0.9617 - val_loss: 0.0822 - val_accuracy: 0.9752\n",
      "Epoch 4/5\n",
      "844/844 [==============================] - 12s 14ms/step - loss: 0.1086 - accuracy: 0.9667 - val_loss: 0.0758 - val_accuracy: 0.9775\n",
      "Epoch 5/5\n",
      "844/844 [==============================] - 12s 14ms/step - loss: 0.0962 - accuracy: 0.9706 - val_loss: 0.0877 - val_accuracy: 0.9757\n",
      "313/313 [==============================] - 1s 2ms/step - loss: 0.0774 - accuracy: 0.9762\n",
      "Train error: 2.94%\n",
      "Test error: 2.38%\n",
      "Duration: 60.68 seconds\n"
     ]
    }
   ],
   "source": [
    "conf11=Sequential()\n",
    " \n",
    "conf11.add(Conv2D(filters=64, kernel_size = (3,3), strides=(2,2), activation=\"relu\", kernel_initializer='glorot_uniform', input_shape=(28,28,1)))\n",
    "conf11.add(BatchNormalization())\n",
    "conf11.add(Conv2D(filters=64, kernel_size = (3,3), strides=(2,2), activation=\"relu\", kernel_initializer='glorot_uniform'))\n",
    "conf11.add(BatchNormalization())\n",
    "    \n",
    "conf11.add(Flatten())\n",
    "conf11.add(Dense(10,activation=\"softmax\"))\n",
    "    \n",
    "conf11.compile(loss=\"categorical_crossentropy\", optimizer=\"adam\", metrics=[\"accuracy\"])\n",
    "\n",
    "start_time = time.time()\n",
    "history = conf11.fit(\n",
    "    datagen.flow(train_images, train_labels, batch_size=64),\n",
    "    epochs=5,\n",
    "    validation_data=(val_images, val_labels),\n",
    "    callbacks=[es])\n",
    "duration = time.time()-start_time\n",
    "\n",
    "test_loss, test_acc = conf11.evaluate(test_images, test_labels)\n",
    "test_error = 1.0 - test_acc\n",
    "\n",
    "results.append({\n",
    "    \"Configuration\": \"conf11\",\n",
    "    \"Train Error\": f\"{(1.0 - history.history['accuracy'][-1]) * 100:.2f}%\",\n",
    "    \"Test Error\": f\"{test_error * 100:.2f}%\",\n",
    "    \"Duration(seconds)\": f\"{duration:.2f}\"\n",
    "})\n",
    "print(f\"Train error: {(1.0 - history.history['accuracy'][-1]) * 100:.2f}%\\nTest error: {test_error * 100:.2f}%\\nDuration: {duration:.2f} seconds\")"
   ]
  },
  {
   "cell_type": "code",
   "execution_count": 26,
   "id": "b6972813-1283-421e-b9f4-a1c0caea0c71",
   "metadata": {
    "tags": []
   },
   "outputs": [
    {
     "name": "stdout",
     "output_type": "stream",
     "text": [
      "Epoch 1/5\n",
      "844/844 [==============================] - 11s 12ms/step - loss: 0.4915 - accuracy: 0.8489 - val_loss: 0.1510 - val_accuracy: 0.9607\n",
      "Epoch 2/5\n",
      "844/844 [==============================] - 10s 12ms/step - loss: 0.2173 - accuracy: 0.9339 - val_loss: 0.1064 - val_accuracy: 0.9680\n",
      "Epoch 3/5\n",
      "844/844 [==============================] - 10s 12ms/step - loss: 0.1810 - accuracy: 0.9438 - val_loss: 0.0992 - val_accuracy: 0.9698\n",
      "Epoch 4/5\n",
      "844/844 [==============================] - 10s 12ms/step - loss: 0.1576 - accuracy: 0.9518 - val_loss: 0.1015 - val_accuracy: 0.9675\n",
      "Epoch 5/5\n",
      "844/844 [==============================] - 10s 12ms/step - loss: 0.1452 - accuracy: 0.9555 - val_loss: 0.0836 - val_accuracy: 0.9743\n",
      "313/313 [==============================] - 0s 1ms/step - loss: 0.0694 - accuracy: 0.9788\n",
      "Train error: 4.45%\n",
      "Test error: 2.12%\n",
      "Duration: 52.04 seconds\n"
     ]
    }
   ],
   "source": [
    "conf12=Sequential()\n",
    " \n",
    "conf12.add(Conv2D(filters=64, kernel_size = (3,3), strides=(3,3), activation=\"relu\", kernel_initializer='glorot_uniform', input_shape=(28,28,1)))\n",
    "conf12.add(BatchNormalization())\n",
    "conf12.add(Conv2D(filters=64, kernel_size = (3,3), strides=(3,3), activation=\"relu\", kernel_initializer='glorot_uniform'))\n",
    "conf12.add(BatchNormalization())\n",
    "    \n",
    "conf12.add(Flatten())\n",
    "conf12.add(Dense(10,activation=\"softmax\"))\n",
    "    \n",
    "conf12.compile(loss=\"categorical_crossentropy\", optimizer=\"adam\", metrics=[\"accuracy\"])\n",
    "\n",
    "start_time = time.time()\n",
    "history = conf12.fit(\n",
    "    datagen.flow(train_images, train_labels, batch_size=64),\n",
    "    epochs=5,\n",
    "    validation_data=(val_images, val_labels),\n",
    "    callbacks=[es])\n",
    "duration = time.time()-start_time\n",
    "\n",
    "test_loss, test_acc = conf12.evaluate(test_images, test_labels)\n",
    "test_error = 1.0 - test_acc\n",
    "\n",
    "results.append({\n",
    "    \"Configuration\": \"conf12\",\n",
    "    \"Train Error\": f\"{(1.0 - history.history['accuracy'][-1]) * 100:.2f}%\",\n",
    "    \"Test Error\": f\"{test_error * 100:.2f}%\",\n",
    "    \"Duration(seconds)\": f\"{duration:.2f}\"\n",
    "})\n",
    "print(f\"Train error: {(1.0 - history.history['accuracy'][-1]) * 100:.2f}%\\nTest error: {test_error * 100:.2f}%\\nDuration: {duration:.2f} seconds\")"
   ]
  },
  {
   "cell_type": "code",
   "execution_count": 27,
   "id": "7e6f3e99-c3d1-408a-b040-0e97c07740a9",
   "metadata": {
    "tags": []
   },
   "outputs": [
    {
     "name": "stdout",
     "output_type": "stream",
     "text": [
      "Epoch 1/5\n",
      "844/844 [==============================] - 33s 38ms/step - loss: 1.5073 - accuracy: 0.7703 - val_loss: 0.4185 - val_accuracy: 0.9235\n",
      "Epoch 2/5\n",
      "844/844 [==============================] - 32s 37ms/step - loss: 0.2979 - accuracy: 0.9245 - val_loss: 0.1634 - val_accuracy: 0.9643\n",
      "Epoch 3/5\n",
      "844/844 [==============================] - 32s 37ms/step - loss: 0.1903 - accuracy: 0.9450 - val_loss: 0.3006 - val_accuracy: 0.9292\n",
      "Epoch 4/5\n",
      "844/844 [==============================] - 32s 38ms/step - loss: 0.1640 - accuracy: 0.9523 - val_loss: 0.1912 - val_accuracy: 0.9558\n",
      "Epoch 5/5\n",
      "843/844 [============================>.] - ETA: 0s - loss: 0.1532 - accuracy: 0.9550Restoring model weights from the end of the best epoch: 2.\n",
      "844/844 [==============================] - 32s 37ms/step - loss: 0.1532 - accuracy: 0.9550 - val_loss: 0.1458 - val_accuracy: 0.9625\n",
      "Epoch 5: early stopping\n",
      "313/313 [==============================] - 2s 7ms/step - loss: 0.1360 - accuracy: 0.9663\n",
      "Train error: 4.50%\n",
      "Test error: 3.37%\n",
      "Duration: 159.50 seconds\n"
     ]
    }
   ],
   "source": [
    "conf13=Sequential()\n",
    " \n",
    "conf13.add(Conv2D(filters=64, kernel_size = (3,3), strides=(1,1), activation=\"sigmoid\", kernel_initializer='glorot_uniform', input_shape=(28,28,1)))\n",
    "conf13.add(BatchNormalization())\n",
    "conf13.add(Conv2D(filters=64, kernel_size = (3,3), strides=(1,1), activation=\"sigmoid\", kernel_initializer='glorot_uniform'))\n",
    "conf13.add(BatchNormalization())\n",
    "    \n",
    "conf13.add(Flatten())\n",
    "conf13.add(Dense(10,activation=\"softmax\"))\n",
    "    \n",
    "conf13.compile(loss=\"categorical_crossentropy\", optimizer=\"adam\", metrics=[\"accuracy\"])\n",
    "\n",
    "start_time = time.time()\n",
    "history = conf13.fit(\n",
    "    datagen.flow(train_images, train_labels, batch_size=64),\n",
    "    epochs=5,\n",
    "    validation_data=(val_images, val_labels),\n",
    "    callbacks=[es])\n",
    "duration = time.time()-start_time\n",
    "\n",
    "test_loss, test_acc = conf13.evaluate(test_images, test_labels)\n",
    "test_error = 1.0 - test_acc\n",
    "\n",
    "results.append({\n",
    "    \"Configuration\": \"conf13\",\n",
    "    \"Train Error\": f\"{(1.0 - history.history['accuracy'][-1]) * 100:.2f}%\",\n",
    "    \"Test Error\": f\"{test_error * 100:.2f}%\",\n",
    "    \"Duration(seconds)\": f\"{duration:.2f}\"\n",
    "})\n",
    "print(f\"Train error: {(1.0 - history.history['accuracy'][-1]) * 100:.2f}%\\nTest error: {test_error * 100:.2f}%\\nDuration: {duration:.2f} seconds\")"
   ]
  },
  {
   "cell_type": "code",
   "execution_count": 28,
   "id": "c1bbc50c-428e-4e93-9790-2babeb142b9f",
   "metadata": {
    "tags": []
   },
   "outputs": [
    {
     "name": "stdout",
     "output_type": "stream",
     "text": [
      "Epoch 1/5\n",
      "844/844 [==============================] - 31s 36ms/step - loss: 1.3094 - accuracy: 0.8188 - val_loss: 0.3604 - val_accuracy: 0.9395\n",
      "Epoch 2/5\n",
      "844/844 [==============================] - 31s 37ms/step - loss: 0.5032 - accuracy: 0.9162 - val_loss: 3.5604 - val_accuracy: 0.7640\n",
      "Epoch 3/5\n",
      "844/844 [==============================] - 31s 36ms/step - loss: 0.2921 - accuracy: 0.9364 - val_loss: 1.1257 - val_accuracy: 0.8123\n",
      "Epoch 4/5\n",
      "843/844 [============================>.] - ETA: 0s - loss: 0.2009 - accuracy: 0.9481Restoring model weights from the end of the best epoch: 1.\n",
      "844/844 [==============================] - 31s 36ms/step - loss: 0.2007 - accuracy: 0.9481 - val_loss: 1.7328 - val_accuracy: 0.7953\n",
      "Epoch 4: early stopping\n",
      "313/313 [==============================] - 2s 6ms/step - loss: 0.3306 - accuracy: 0.9419\n",
      "Train error: 5.19%\n",
      "Test error: 5.81%\n",
      "Duration: 123.64 seconds\n"
     ]
    }
   ],
   "source": [
    "conf14=Sequential()\n",
    " \n",
    "conf14.add(Conv2D(filters=64, kernel_size = (3,3), strides=(1,1), activation=\"tanh\", kernel_initializer='glorot_uniform', input_shape=(28,28,1)))\n",
    "conf14.add(BatchNormalization())\n",
    "conf14.add(Conv2D(filters=64, kernel_size = (3,3), strides=(1,1), activation=\"tanh\", kernel_initializer='glorot_uniform'))\n",
    "conf14.add(BatchNormalization())\n",
    "    \n",
    "conf14.add(Flatten())\n",
    "conf14.add(Dense(10,activation=\"softmax\"))\n",
    "    \n",
    "conf14.compile(loss=\"categorical_crossentropy\", optimizer=\"adam\", metrics=[\"accuracy\"])\n",
    "\n",
    "start_time = time.time()\n",
    "history = conf14.fit(\n",
    "    datagen.flow(train_images, train_labels, batch_size=64),\n",
    "    epochs=5,\n",
    "    validation_data=(val_images, val_labels),\n",
    "    callbacks=[es])\n",
    "duration = time.time()-start_time\n",
    "\n",
    "test_loss, test_acc = conf14.evaluate(test_images, test_labels)\n",
    "test_error = 1.0 - test_acc\n",
    "\n",
    "results.append({\n",
    "    \"Configuration\": \"conf14\",\n",
    "    \"Train Error\": f\"{(1.0 - history.history['accuracy'][-1]) * 100:.2f}%\",\n",
    "    \"Test Error\": f\"{test_error * 100:.2f}%\",\n",
    "    \"Duration(seconds)\": f\"{duration:.2f}\"\n",
    "})\n",
    "print(f\"Train error: {(1.0 - history.history['accuracy'][-1]) * 100:.2f}%\\nTest error: {test_error * 100:.2f}%\\nDuration: {duration:.2f} seconds\")"
   ]
  },
  {
   "cell_type": "code",
   "execution_count": 29,
   "id": "c9bb8c4d-add8-4f01-a103-c69b6d002f15",
   "metadata": {
    "tags": []
   },
   "outputs": [
    {
     "name": "stdout",
     "output_type": "stream",
     "text": [
      "Epoch 1/5\n",
      "844/844 [==============================] - 33s 38ms/step - loss: 1.1052 - accuracy: 0.8516 - val_loss: 0.4433 - val_accuracy: 0.9460\n",
      "Epoch 2/5\n",
      "844/844 [==============================] - 32s 38ms/step - loss: 0.5079 - accuracy: 0.9239 - val_loss: 0.2077 - val_accuracy: 0.9628\n",
      "Epoch 3/5\n",
      "844/844 [==============================] - 32s 37ms/step - loss: 0.2828 - accuracy: 0.9424 - val_loss: 0.2842 - val_accuracy: 0.9360\n",
      "Epoch 4/5\n",
      "844/844 [==============================] - 32s 37ms/step - loss: 0.1787 - accuracy: 0.9538 - val_loss: 0.1528 - val_accuracy: 0.9582\n",
      "Epoch 5/5\n",
      "843/844 [============================>.] - ETA: 0s - loss: 0.1331 - accuracy: 0.9611Restoring model weights from the end of the best epoch: 2.\n",
      "844/844 [==============================] - 32s 38ms/step - loss: 0.1331 - accuracy: 0.9611 - val_loss: 0.1546 - val_accuracy: 0.9563\n",
      "Epoch 5: early stopping\n",
      "313/313 [==============================] - 2s 6ms/step - loss: 0.1716 - accuracy: 0.9674\n",
      "Train error: 3.89%\n",
      "Test error: 3.26%\n",
      "Duration: 159.73 seconds\n"
     ]
    }
   ],
   "source": [
    "conf15=Sequential()\n",
    " \n",
    "conf15.add(Conv2D(filters=64, kernel_size = (3,3), strides=(1,1), activation=\"leaky_relu\", kernel_initializer='glorot_uniform', input_shape=(28,28,1)))\n",
    "conf15.add(BatchNormalization())\n",
    "conf15.add(Conv2D(filters=64, kernel_size = (3,3), strides=(1,1), activation=\"leaky_relu\", kernel_initializer='glorot_uniform'))\n",
    "conf15.add(BatchNormalization())\n",
    "    \n",
    "conf15.add(Flatten())\n",
    "conf15.add(Dense(10,activation=\"softmax\"))\n",
    "    \n",
    "conf15.compile(loss=\"categorical_crossentropy\", optimizer=\"adam\", metrics=[\"accuracy\"])\n",
    "\n",
    "start_time = time.time()\n",
    "history = conf15.fit(\n",
    "    datagen.flow(train_images, train_labels, batch_size=64),\n",
    "    epochs=5,\n",
    "    validation_data=(val_images, val_labels),\n",
    "    callbacks=[es])\n",
    "duration = time.time()-start_time\n",
    "\n",
    "test_loss, test_acc = conf15.evaluate(test_images, test_labels)\n",
    "test_error = 1.0 - test_acc\n",
    "\n",
    "results.append({\n",
    "    \"Configuration\": \"conf15\",\n",
    "    \"Train Error\": f\"{(1.0 - history.history['accuracy'][-1]) * 100:.2f}%\",\n",
    "    \"Test Error\": f\"{test_error * 100:.2f}%\",\n",
    "    \"Duration(seconds)\": f\"{duration:.2f}\"\n",
    "})\n",
    "print(f\"Train error: {(1.0 - history.history['accuracy'][-1]) * 100:.2f}%\\nTest error: {test_error * 100:.2f}%\\nDuration: {duration:.2f} seconds\")"
   ]
  },
  {
   "cell_type": "code",
   "execution_count": 30,
   "id": "1b3b7f25-6db8-4ee9-90e4-7f67f2d1a7cf",
   "metadata": {
    "tags": []
   },
   "outputs": [
    {
     "name": "stdout",
     "output_type": "stream",
     "text": [
      "Epoch 1/5\n",
      "844/844 [==============================] - 29s 33ms/step - loss: 3.0000 - accuracy: 0.5222 - val_loss: 1.0471 - val_accuracy: 0.6810\n",
      "Epoch 2/5\n",
      "844/844 [==============================] - 28s 33ms/step - loss: 1.3195 - accuracy: 0.6096 - val_loss: 0.6619 - val_accuracy: 0.8202\n",
      "Epoch 3/5\n",
      "844/844 [==============================] - 28s 33ms/step - loss: 1.1200 - accuracy: 0.6505 - val_loss: 0.6428 - val_accuracy: 0.8177\n",
      "Epoch 4/5\n",
      "844/844 [==============================] - 28s 33ms/step - loss: 1.1134 - accuracy: 0.6566 - val_loss: 0.6836 - val_accuracy: 0.8062\n",
      "Epoch 5/5\n",
      "843/844 [============================>.] - ETA: 0s - loss: 1.1097 - accuracy: 0.6557Restoring model weights from the end of the best epoch: 2.\n",
      "844/844 [==============================] - 28s 33ms/step - loss: 1.1095 - accuracy: 0.6558 - val_loss: 0.6307 - val_accuracy: 0.8152\n",
      "Epoch 5: early stopping\n",
      "313/313 [==============================] - 2s 6ms/step - loss: 0.6488 - accuracy: 0.8286\n",
      "Train error: 34.42%\n",
      "Test error: 17.14%\n",
      "Duration: 141.16 seconds\n"
     ]
    }
   ],
   "source": [
    "conf16=Sequential()\n",
    " \n",
    "conf16.add(Conv2D(filters=64, kernel_size = (3,3), strides=(1,1), activation=\"linear\", kernel_initializer='glorot_uniform', input_shape=(28,28,1)))\n",
    "conf16.add(BatchNormalization())\n",
    "conf16.add(Conv2D(filters=64, kernel_size = (3,3), strides=(1,1), activation=\"linear\", kernel_initializer='glorot_uniform'))\n",
    "conf16.add(BatchNormalization())\n",
    "    \n",
    "conf16.add(Flatten())\n",
    "conf16.add(Dense(10,activation=\"softmax\"))\n",
    "    \n",
    "conf16.compile(loss=\"categorical_crossentropy\", optimizer=\"adam\", metrics=[\"accuracy\"])\n",
    "\n",
    "start_time = time.time()\n",
    "history = conf16.fit(\n",
    "    datagen.flow(train_images, train_labels, batch_size=64),\n",
    "    epochs=5,\n",
    "    validation_data=(val_images, val_labels),\n",
    "    callbacks=[es])\n",
    "duration = time.time()-start_time\n",
    "\n",
    "test_loss, test_acc = conf16.evaluate(test_images, test_labels)\n",
    "test_error = 1.0 - test_acc\n",
    "\n",
    "results.append({\n",
    "    \"Configuration\": \"conf16\",\n",
    "    \"Train Error\": f\"{(1.0 - history.history['accuracy'][-1]) * 100:.2f}%\",\n",
    "    \"Test Error\": f\"{test_error * 100:.2f}%\",\n",
    "    \"Duration(seconds)\": f\"{duration:.2f}\"\n",
    "})\n",
    "print(f\"Train error: {(1.0 - history.history['accuracy'][-1]) * 100:.2f}%\\nTest error: {test_error * 100:.2f}%\\nDuration: {duration:.2f} seconds\")"
   ]
  },
  {
   "cell_type": "code",
   "execution_count": 31,
   "id": "216c0d22-7591-441c-9d9a-6ac7eeea8a88",
   "metadata": {
    "tags": []
   },
   "outputs": [
    {
     "name": "stdout",
     "output_type": "stream",
     "text": [
      "Epoch 1/5\n",
      "844/844 [==============================] - 33s 38ms/step - loss: 0.5621 - accuracy: 0.8765 - val_loss: 1.8827 - val_accuracy: 0.8313\n",
      "Epoch 2/5\n",
      "844/844 [==============================] - 34s 41ms/step - loss: 0.3307 - accuracy: 0.9304 - val_loss: 2.5067 - val_accuracy: 0.8613\n",
      "Epoch 3/5\n",
      "844/844 [==============================] - 32s 38ms/step - loss: 0.2711 - accuracy: 0.9426 - val_loss: 2.0608 - val_accuracy: 0.9047\n",
      "Epoch 4/5\n",
      "844/844 [==============================] - 32s 38ms/step - loss: 0.2134 - accuracy: 0.9508 - val_loss: 2.1406 - val_accuracy: 0.8757\n",
      "Epoch 5/5\n",
      "844/844 [==============================] - 32s 38ms/step - loss: 0.1744 - accuracy: 0.9584 - val_loss: 0.8352 - val_accuracy: 0.9177\n",
      "313/313 [==============================] - 2s 6ms/step - loss: 0.9238 - accuracy: 0.9176\n",
      "Train error: 4.16%\n",
      "Test error: 8.24%\n",
      "Duration: 163.43 seconds\n"
     ]
    }
   ],
   "source": [
    "conf17=Sequential()\n",
    " \n",
    "conf17.add(Conv2D(filters=64, kernel_size = (3,3), strides=(1,1), activation=\"exponential\", kernel_initializer='glorot_uniform', input_shape=(28,28,1)))\n",
    "conf17.add(BatchNormalization())\n",
    "conf17.add(Conv2D(filters=64, kernel_size = (3,3), strides=(1,1), activation=\"exponential\", kernel_initializer='glorot_uniform'))\n",
    "conf17.add(BatchNormalization())\n",
    "    \n",
    "conf17.add(Flatten())\n",
    "conf17.add(Dense(10,activation=\"softmax\"))\n",
    "    \n",
    "conf17.compile(loss=\"categorical_crossentropy\", optimizer=\"adam\", metrics=[\"accuracy\"])\n",
    "\n",
    "start_time = time.time()\n",
    "history = conf17.fit(\n",
    "    datagen.flow(train_images, train_labels, batch_size=64),\n",
    "    epochs=5,\n",
    "    validation_data=(val_images, val_labels),\n",
    "    callbacks=[es])\n",
    "duration = time.time()-start_time\n",
    "\n",
    "test_loss, test_acc = conf17.evaluate(test_images, test_labels)\n",
    "test_error = 1.0 - test_acc\n",
    "\n",
    "results.append({\n",
    "    \"Configuration\": \"conf17\",\n",
    "    \"Train Error\": f\"{(1.0 - history.history['accuracy'][-1]) * 100:.2f}%\",\n",
    "    \"Test Error\": f\"{test_error * 100:.2f}%\",\n",
    "    \"Duration(seconds)\": f\"{duration:.2f}\"\n",
    "})\n",
    "print(f\"Train error: {(1.0 - history.history['accuracy'][-1]) * 100:.2f}%\\nTest error: {test_error * 100:.2f}%\\nDuration: {duration:.2f} seconds\")"
   ]
  },
  {
   "cell_type": "code",
   "execution_count": 32,
   "id": "c325b134-a97d-42e5-b077-a7c01d99a2ca",
   "metadata": {
    "tags": []
   },
   "outputs": [
    {
     "name": "stdout",
     "output_type": "stream",
     "text": [
      "Epoch 1/5\n",
      "844/844 [==============================] - 35s 41ms/step - loss: 0.5448 - accuracy: 0.8421 - val_loss: 0.1498 - val_accuracy: 0.9587\n",
      "Epoch 2/5\n",
      "844/844 [==============================] - 35s 41ms/step - loss: 0.1603 - accuracy: 0.9544 - val_loss: 0.1090 - val_accuracy: 0.9675\n",
      "Epoch 3/5\n",
      "844/844 [==============================] - 34s 40ms/step - loss: 0.1097 - accuracy: 0.9675 - val_loss: 0.1485 - val_accuracy: 0.9585\n",
      "Epoch 4/5\n",
      "844/844 [==============================] - 34s 40ms/step - loss: 0.0935 - accuracy: 0.9716 - val_loss: 0.0734 - val_accuracy: 0.9785\n",
      "Epoch 5/5\n",
      "844/844 [==============================] - 34s 40ms/step - loss: 0.0860 - accuracy: 0.9741 - val_loss: 0.0586 - val_accuracy: 0.9838\n",
      "313/313 [==============================] - 2s 6ms/step - loss: 0.0518 - accuracy: 0.9848\n",
      "Train error: 2.59%\n",
      "Test error: 1.52%\n",
      "Duration: 172.46 seconds\n"
     ]
    }
   ],
   "source": [
    "conf18=Sequential()\n",
    " \n",
    "conf18.add(Conv2D(filters=64, kernel_size = (3,3), strides=(1,1), activation=\"relu\", kernel_initializer='glorot_uniform', input_shape=(28,28,1)))\n",
    "conf18.add(BatchNormalization())\n",
    "conf18.add(Conv2D(filters=64, kernel_size = (3,3), strides=(1,1), activation=\"relu\", kernel_initializer='glorot_uniform'))\n",
    "conf18.add(BatchNormalization())\n",
    "    \n",
    "conf18.add(Flatten())\n",
    "conf18.add(Dense(32,activation=\"relu\"))\n",
    "conf18.add(Dense(10,activation=\"softmax\"))\n",
    "    \n",
    "conf18.compile(loss=\"categorical_crossentropy\", optimizer=\"adam\", metrics=[\"accuracy\"])\n",
    "\n",
    "start_time = time.time()\n",
    "history = conf18.fit(\n",
    "    datagen.flow(train_images, train_labels, batch_size=64),\n",
    "    epochs=5,\n",
    "    validation_data=(val_images, val_labels),\n",
    "    callbacks=[es])\n",
    "duration = time.time()-start_time\n",
    "\n",
    "test_loss, test_acc = conf18.evaluate(test_images, test_labels)\n",
    "test_error = 1.0 - test_acc\n",
    "\n",
    "results.append({\n",
    "    \"Configuration\": \"conf18\",\n",
    "    \"Train Error\": f\"{(1.0 - history.history['accuracy'][-1]) * 100:.2f}%\",\n",
    "    \"Test Error\": f\"{test_error * 100:.2f}%\",\n",
    "    \"Duration(seconds)\": f\"{duration:.2f}\"\n",
    "})\n",
    "print(f\"Train error: {(1.0 - history.history['accuracy'][-1]) * 100:.2f}%\\nTest error: {test_error * 100:.2f}%\\nDuration: {duration:.2f} seconds\")"
   ]
  },
  {
   "cell_type": "code",
   "execution_count": 33,
   "id": "bc5e99e4-fd1b-401a-94db-570efb89249e",
   "metadata": {
    "tags": []
   },
   "outputs": [
    {
     "name": "stdout",
     "output_type": "stream",
     "text": [
      "Epoch 1/5\n",
      "844/844 [==============================] - 42s 49ms/step - loss: 0.4117 - accuracy: 0.8859 - val_loss: 0.1046 - val_accuracy: 0.9678\n",
      "Epoch 2/5\n",
      "844/844 [==============================] - 40s 48ms/step - loss: 0.1458 - accuracy: 0.9586 - val_loss: 0.1005 - val_accuracy: 0.9700\n",
      "Epoch 3/5\n",
      "844/844 [==============================] - 43s 50ms/step - loss: 0.1106 - accuracy: 0.9672 - val_loss: 0.0881 - val_accuracy: 0.9733\n",
      "Epoch 4/5\n",
      "844/844 [==============================] - 41s 49ms/step - loss: 0.0889 - accuracy: 0.9740 - val_loss: 0.0616 - val_accuracy: 0.9838\n",
      "Epoch 5/5\n",
      "844/844 [==============================] - 42s 50ms/step - loss: 0.0780 - accuracy: 0.9769 - val_loss: 0.0658 - val_accuracy: 0.9805\n",
      "313/313 [==============================] - 2s 7ms/step - loss: 0.0507 - accuracy: 0.9859\n",
      "Train error: 2.31%\n",
      "Test error: 1.41%\n",
      "Duration: 207.98 seconds\n"
     ]
    }
   ],
   "source": [
    "conf19=Sequential()\n",
    " \n",
    "conf19.add(Conv2D(filters=64, kernel_size = (3,3), strides=(1,1), activation=\"relu\", kernel_initializer='glorot_uniform', input_shape=(28,28,1)))\n",
    "conf19.add(BatchNormalization())\n",
    "conf19.add(Conv2D(filters=64, kernel_size = (3,3), strides=(1,1), activation=\"relu\", kernel_initializer='glorot_uniform'))\n",
    "conf19.add(BatchNormalization())\n",
    "    \n",
    "conf19.add(Flatten())\n",
    "conf19.add(Dense(64,activation=\"relu\"))\n",
    "conf19.add(Dense(10,activation=\"softmax\"))\n",
    "    \n",
    "conf19.compile(loss=\"categorical_crossentropy\", optimizer=\"adam\", metrics=[\"accuracy\"])\n",
    "\n",
    "start_time = time.time()\n",
    "history = conf19.fit(\n",
    "    datagen.flow(train_images, train_labels, batch_size=64),\n",
    "    epochs=5,\n",
    "    validation_data=(val_images, val_labels),\n",
    "    callbacks=[es])\n",
    "duration = time.time()-start_time\n",
    "\n",
    "test_loss, test_acc = conf19.evaluate(test_images, test_labels)\n",
    "test_error = 1.0 - test_acc\n",
    "\n",
    "results.append({\n",
    "    \"Configuration\": \"conf19\",\n",
    "    \"Train Error\": f\"{(1.0 - history.history['accuracy'][-1]) * 100:.2f}%\",\n",
    "    \"Test Error\": f\"{test_error * 100:.2f}%\",\n",
    "    \"Duration(seconds)\": f\"{duration:.2f}\"\n",
    "})\n",
    "print(f\"Train error: {(1.0 - history.history['accuracy'][-1]) * 100:.2f}%\\nTest error: {test_error * 100:.2f}%\\nDuration: {duration:.2f} seconds\")"
   ]
  },
  {
   "cell_type": "code",
   "execution_count": 34,
   "id": "d5ba1851-2b9b-4906-9352-17893b23bcb1",
   "metadata": {
    "tags": []
   },
   "outputs": [
    {
     "name": "stdout",
     "output_type": "stream",
     "text": [
      "Epoch 1/5\n",
      "844/844 [==============================] - 53s 62ms/step - loss: 0.4167 - accuracy: 0.8881 - val_loss: 0.1421 - val_accuracy: 0.9568\n",
      "Epoch 2/5\n",
      "844/844 [==============================] - 53s 62ms/step - loss: 0.1421 - accuracy: 0.9581 - val_loss: 0.0773 - val_accuracy: 0.9790\n",
      "Epoch 3/5\n",
      "844/844 [==============================] - 52s 62ms/step - loss: 0.1083 - accuracy: 0.9690 - val_loss: 0.0759 - val_accuracy: 0.9778\n",
      "Epoch 4/5\n",
      "844/844 [==============================] - 53s 62ms/step - loss: 0.0879 - accuracy: 0.9744 - val_loss: 0.0829 - val_accuracy: 0.9758\n",
      "Epoch 5/5\n",
      "844/844 [==============================] - 54s 64ms/step - loss: 0.0860 - accuracy: 0.9754 - val_loss: 0.0633 - val_accuracy: 0.9835\n",
      "313/313 [==============================] - 2s 7ms/step - loss: 0.0476 - accuracy: 0.9856\n",
      "Train error: 2.46%\n",
      "Test error: 1.44%\n",
      "Duration: 264.65 seconds\n"
     ]
    }
   ],
   "source": [
    "conf20=Sequential()\n",
    " \n",
    "conf20.add(Conv2D(filters=64, kernel_size = (3,3), strides=(1,1), activation=\"relu\", kernel_initializer='glorot_uniform', input_shape=(28,28,1)))\n",
    "conf20.add(BatchNormalization())\n",
    "conf20.add(Conv2D(filters=64, kernel_size = (3,3), strides=(1,1), activation=\"relu\", kernel_initializer='glorot_uniform'))\n",
    "conf20.add(BatchNormalization())\n",
    "    \n",
    "conf20.add(Flatten())\n",
    "conf20.add(Dense(128,activation=\"relu\"))\n",
    "conf20.add(Dense(10,activation=\"softmax\"))\n",
    "    \n",
    "conf20.compile(loss=\"categorical_crossentropy\", optimizer=\"adam\", metrics=[\"accuracy\"])\n",
    "\n",
    "start_time = time.time()\n",
    "history = conf20.fit(\n",
    "    datagen.flow(train_images, train_labels, batch_size=64),\n",
    "    epochs=5,\n",
    "    validation_data=(val_images, val_labels),\n",
    "    callbacks=[es])\n",
    "duration = time.time()-start_time\n",
    "\n",
    "test_loss, test_acc = conf20.evaluate(test_images, test_labels)\n",
    "test_error = 1.0 - test_acc\n",
    "\n",
    "results.append({\n",
    "    \"Configuration\": \"conf20\",\n",
    "    \"Train Error\": f\"{(1.0 - history.history['accuracy'][-1]) * 100:.2f}%\",\n",
    "    \"Test Error\": f\"{test_error * 100:.2f}%\",\n",
    "    \"Duration(seconds)\": f\"{duration:.2f}\"\n",
    "})\n",
    "print(f\"Train error: {(1.0 - history.history['accuracy'][-1]) * 100:.2f}%\\nTest error: {test_error * 100:.2f}%\\nDuration: {duration:.2f} seconds\")"
   ]
  },
  {
   "cell_type": "code",
   "execution_count": 35,
   "id": "d8917ec6-dbfd-497e-8864-4b828fdde012",
   "metadata": {
    "tags": []
   },
   "outputs": [
    {
     "name": "stdout",
     "output_type": "stream",
     "text": [
      "Epoch 1/5\n",
      "844/844 [==============================] - 30s 35ms/step - loss: 0.7143 - accuracy: 0.8805 - val_loss: 0.2739 - val_accuracy: 0.9457\n",
      "Epoch 2/5\n",
      "844/844 [==============================] - 30s 35ms/step - loss: 0.2384 - accuracy: 0.9468 - val_loss: 0.2425 - val_accuracy: 0.9423\n",
      "Epoch 3/5\n",
      "844/844 [==============================] - 30s 35ms/step - loss: 0.1567 - accuracy: 0.9610 - val_loss: 0.1806 - val_accuracy: 0.9568\n",
      "Epoch 4/5\n",
      "844/844 [==============================] - 30s 35ms/step - loss: 0.1269 - accuracy: 0.9669 - val_loss: 0.0991 - val_accuracy: 0.9758\n",
      "Epoch 5/5\n",
      "844/844 [==============================] - 30s 35ms/step - loss: 0.1058 - accuracy: 0.9719 - val_loss: 0.1019 - val_accuracy: 0.9758\n",
      "313/313 [==============================] - 2s 6ms/step - loss: 0.0824 - accuracy: 0.9764\n",
      "Train error: 2.81%\n",
      "Test error: 2.36%\n",
      "Duration: 149.08 seconds\n"
     ]
    }
   ],
   "source": [
    "conf21=Sequential()\n",
    " \n",
    "conf21.add(Conv2D(filters=64, kernel_size = (3,3), strides=(1,1), activation=\"relu\", kernel_initializer='glorot_uniform', input_shape=(28,28,1)))\n",
    "conf21.add(BatchNormalization())\n",
    "conf21.add(Conv2D(filters=64, kernel_size = (3,3), strides=(1,1), activation=\"relu\", kernel_initializer='glorot_uniform'))\n",
    "conf21.add(BatchNormalization())\n",
    "    \n",
    "conf21.add(Flatten())\n",
    "conf21.add(Dense(10,activation=\"sigmoid\"))\n",
    "    \n",
    "conf21.compile(loss=\"categorical_crossentropy\", optimizer=\"adam\", metrics=[\"accuracy\"])\n",
    "\n",
    "start_time = time.time()\n",
    "history = conf21.fit(\n",
    "    datagen.flow(train_images, train_labels, batch_size=64),\n",
    "    epochs=5,\n",
    "    validation_data=(val_images, val_labels),\n",
    "    callbacks=[es])\n",
    "duration = time.time()-start_time\n",
    "\n",
    "test_loss, test_acc = conf21.evaluate(test_images, test_labels)\n",
    "test_error = 1.0 - test_acc\n",
    "\n",
    "results.append({\n",
    "    \"Configuration\": \"conf21\",\n",
    "    \"Train Error\": f\"{(1.0 - history.history['accuracy'][-1]) * 100:.2f}%\",\n",
    "    \"Test Error\": f\"{test_error * 100:.2f}%\",\n",
    "    \"Duration(seconds)\": f\"{duration:.2f}\"\n",
    "})\n",
    "print(f\"Train error: {(1.0 - history.history['accuracy'][-1]) * 100:.2f}%\\nTest error: {test_error * 100:.2f}%\\nDuration: {duration:.2f} seconds\")"
   ]
  },
  {
   "cell_type": "code",
   "execution_count": 36,
   "id": "c7d7a26d-d9a2-4ca5-a400-e6f9797dc3ea",
   "metadata": {
    "tags": []
   },
   "outputs": [
    {
     "name": "stdout",
     "output_type": "stream",
     "text": [
      "Epoch 1/5\n",
      "844/844 [==============================] - 30s 35ms/step - loss: 8.1908 - accuracy: 0.1397 - val_loss: 7.9260 - val_accuracy: 0.1387\n",
      "Epoch 2/5\n",
      "844/844 [==============================] - 30s 35ms/step - loss: 8.4801 - accuracy: 0.1591 - val_loss: 8.5392 - val_accuracy: 0.1563\n",
      "Epoch 3/5\n",
      "844/844 [==============================] - 30s 35ms/step - loss: 8.1315 - accuracy: 0.1241 - val_loss: 8.2941 - val_accuracy: 0.1242\n",
      "Epoch 4/5\n",
      "844/844 [==============================] - 30s 35ms/step - loss: 8.6579 - accuracy: 0.1215 - val_loss: 10.0110 - val_accuracy: 0.1172\n",
      "Epoch 5/5\n",
      "843/844 [============================>.] - ETA: 0s - loss: 8.7923 - accuracy: 0.1175Restoring model weights from the end of the best epoch: 2.\n",
      "844/844 [==============================] - 30s 36ms/step - loss: 8.7941 - accuracy: 0.1175 - val_loss: 7.3142 - val_accuracy: 0.1128\n",
      "Epoch 5: early stopping\n",
      "313/313 [==============================] - 2s 6ms/step - loss: 8.3676 - accuracy: 0.1572\n",
      "Train error: 88.25%\n",
      "Test error: 84.28%\n",
      "Duration: 149.58 seconds\n"
     ]
    }
   ],
   "source": [
    "conf22=Sequential()\n",
    " \n",
    "conf22.add(Conv2D(filters=64, kernel_size = (3,3), strides=(1,1), activation=\"relu\", kernel_initializer='glorot_uniform', input_shape=(28,28,1)))\n",
    "conf22.add(BatchNormalization())\n",
    "conf22.add(Conv2D(filters=64, kernel_size = (3,3), strides=(1,1), activation=\"relu\", kernel_initializer='glorot_uniform'))\n",
    "conf22.add(BatchNormalization())\n",
    "    \n",
    "conf22.add(Flatten())\n",
    "conf22.add(Dense(10,activation=\"linear\"))\n",
    "    \n",
    "conf22.compile(loss=\"categorical_crossentropy\", optimizer=\"adam\", metrics=[\"accuracy\"])\n",
    "\n",
    "start_time = time.time()\n",
    "history = conf22.fit(\n",
    "    datagen.flow(train_images, train_labels, batch_size=64),\n",
    "    epochs=5,\n",
    "    validation_data=(val_images, val_labels),\n",
    "    callbacks=[es])\n",
    "duration = time.time()-start_time\n",
    "\n",
    "test_loss, test_acc = conf22.evaluate(test_images, test_labels)\n",
    "test_error = 1.0 - test_acc\n",
    "\n",
    "results.append({\n",
    "    \"Configuration\": \"conf22\",\n",
    "    \"Train Error\": f\"{(1.0 - history.history['accuracy'][-1]) * 100:.2f}%\",\n",
    "    \"Test Error\": f\"{test_error * 100:.2f}%\",\n",
    "    \"Duration(seconds)\": f\"{duration:.2f}\"\n",
    "})\n",
    "print(f\"Train error: {(1.0 - history.history['accuracy'][-1]) * 100:.2f}%\\nTest error: {test_error * 100:.2f}%\\nDuration: {duration:.2f} seconds\")"
   ]
  },
  {
   "cell_type": "code",
   "execution_count": 37,
   "id": "b8e31b26-cff7-4541-a37a-161ee2816f85",
   "metadata": {
    "tags": []
   },
   "outputs": [
    {
     "name": "stdout",
     "output_type": "stream",
     "text": [
      "Epoch 1/5\n",
      "844/844 [==============================] - 54s 63ms/step - loss: 0.5896 - accuracy: 0.8294 - val_loss: 0.1401 - val_accuracy: 0.9583\n",
      "Epoch 2/5\n",
      "844/844 [==============================] - 53s 62ms/step - loss: 0.2379 - accuracy: 0.9315 - val_loss: 0.1616 - val_accuracy: 0.9535\n",
      "Epoch 3/5\n",
      "844/844 [==============================] - 53s 63ms/step - loss: 0.1681 - accuracy: 0.9511 - val_loss: 0.0525 - val_accuracy: 0.9855\n",
      "Epoch 4/5\n",
      "844/844 [==============================] - 55s 65ms/step - loss: 0.1379 - accuracy: 0.9594 - val_loss: 0.1118 - val_accuracy: 0.9702\n",
      "Epoch 5/5\n",
      "844/844 [==============================] - 59s 70ms/step - loss: 0.1223 - accuracy: 0.9648 - val_loss: 0.0649 - val_accuracy: 0.9852\n",
      "313/313 [==============================] - 3s 8ms/step - loss: 0.0483 - accuracy: 0.9871\n",
      "Train error: 3.52%\n",
      "Test error: 1.29%\n",
      "Duration: 272.95 seconds\n"
     ]
    }
   ],
   "source": [
    "conf23=Sequential()\n",
    " \n",
    "conf23.add(Conv2D(filters=64, kernel_size = (3,3), strides=(1,1), activation=\"relu\", kernel_initializer='glorot_uniform', input_shape=(28,28,1)))\n",
    "conf23.add(BatchNormalization())\n",
    "conf23.add(Conv2D(filters=64, kernel_size = (3,3), strides=(1,1), activation=\"relu\", kernel_initializer='glorot_uniform'))\n",
    "conf23.add(BatchNormalization())\n",
    "    \n",
    "conf23.add(Flatten())\n",
    "conf23.add(Dense(128,activation=\"relu\"))\n",
    "conf23.add(Dropout(0.2))\n",
    "conf23.add(Dense(10,activation=\"softmax\"))\n",
    "    \n",
    "conf23.compile(loss=\"categorical_crossentropy\", optimizer=\"adam\", metrics=[\"accuracy\"])\n",
    "\n",
    "start_time = time.time()\n",
    "history = conf23.fit(\n",
    "    datagen.flow(train_images, train_labels, batch_size=64),\n",
    "    epochs=5,\n",
    "    validation_data=(val_images, val_labels),\n",
    "    callbacks=[es])\n",
    "duration = time.time()-start_time\n",
    "\n",
    "test_loss, test_acc = conf23.evaluate(test_images, test_labels)\n",
    "test_error = 1.0 - test_acc\n",
    "\n",
    "results.append({\n",
    "    \"Configuration\": \"conf23\",\n",
    "    \"Train Error\": f\"{(1.0 - history.history['accuracy'][-1]) * 100:.2f}%\",\n",
    "    \"Test Error\": f\"{test_error * 100:.2f}%\",\n",
    "    \"Duration(seconds)\": f\"{duration:.2f}\"\n",
    "})\n",
    "print(f\"Train error: {(1.0 - history.history['accuracy'][-1]) * 100:.2f}%\\nTest error: {test_error * 100:.2f}%\\nDuration: {duration:.2f} seconds\")"
   ]
  },
  {
   "cell_type": "code",
   "execution_count": 38,
   "id": "0f936357-29d1-4892-b4b2-207b57e43dbf",
   "metadata": {
    "tags": []
   },
   "outputs": [
    {
     "name": "stdout",
     "output_type": "stream",
     "text": [
      "Epoch 1/5\n",
      "844/844 [==============================] - 59s 69ms/step - loss: 1.0491 - accuracy: 0.6745 - val_loss: 0.1236 - val_accuracy: 0.9668\n",
      "Epoch 2/5\n",
      "844/844 [==============================] - 57s 67ms/step - loss: 0.4134 - accuracy: 0.8730 - val_loss: 0.1219 - val_accuracy: 0.9740\n",
      "Epoch 3/5\n",
      "844/844 [==============================] - 57s 67ms/step - loss: 0.3017 - accuracy: 0.9092 - val_loss: 0.0848 - val_accuracy: 0.9770\n",
      "Epoch 4/5\n",
      "844/844 [==============================] - 52s 62ms/step - loss: 0.2320 - accuracy: 0.9313 - val_loss: 0.0566 - val_accuracy: 0.9843\n",
      "Epoch 5/5\n",
      "844/844 [==============================] - 52s 62ms/step - loss: 0.2063 - accuracy: 0.9391 - val_loss: 0.0603 - val_accuracy: 0.9845\n",
      "313/313 [==============================] - 2s 7ms/step - loss: 0.0460 - accuracy: 0.9874\n",
      "Train error: 6.09%\n",
      "Test error: 1.26%\n",
      "Duration: 277.37 seconds\n"
     ]
    }
   ],
   "source": [
    "conf24=Sequential()\n",
    " \n",
    "conf24.add(Conv2D(filters=64, kernel_size = (3,3), strides=(1,1), activation=\"relu\", kernel_initializer='glorot_uniform', input_shape=(28,28,1)))\n",
    "conf24.add(BatchNormalization())\n",
    "conf24.add(Conv2D(filters=64, kernel_size = (3,3), strides=(1,1), activation=\"relu\", kernel_initializer='glorot_uniform'))\n",
    "conf24.add(BatchNormalization())\n",
    "    \n",
    "conf24.add(Flatten())\n",
    "conf24.add(Dense(128,activation=\"relu\"))\n",
    "conf24.add(Dropout(0.5))\n",
    "conf24.add(Dense(10,activation=\"softmax\"))\n",
    "    \n",
    "conf24.compile(loss=\"categorical_crossentropy\", optimizer=\"adam\", metrics=[\"accuracy\"])\n",
    "\n",
    "start_time = time.time()\n",
    "history = conf24.fit(\n",
    "    datagen.flow(train_images, train_labels, batch_size=64),\n",
    "    epochs=5,\n",
    "    validation_data=(val_images, val_labels),\n",
    "    callbacks=[es])\n",
    "duration = time.time()-start_time\n",
    "\n",
    "test_loss, test_acc = conf24.evaluate(test_images, test_labels)\n",
    "test_error = 1.0 - test_acc\n",
    "\n",
    "results.append({\n",
    "    \"Configuration\": \"conf24\",\n",
    "    \"Train Error\": f\"{(1.0 - history.history['accuracy'][-1]) * 100:.2f}%\",\n",
    "    \"Test Error\": f\"{test_error * 100:.2f}%\",\n",
    "    \"Duration(seconds)\": f\"{duration:.2f}\"\n",
    "})\n",
    "print(f\"Train error: {(1.0 - history.history['accuracy'][-1]) * 100:.2f}%\\nTest error: {test_error * 100:.2f}%\\nDuration: {duration:.2f} seconds\")"
   ]
  },
  {
   "cell_type": "code",
   "execution_count": 39,
   "id": "e4fb52b3-a12c-460f-b28d-dd5080dbbb5d",
   "metadata": {
    "tags": []
   },
   "outputs": [
    {
     "name": "stdout",
     "output_type": "stream",
     "text": [
      "Epoch 1/5\n",
      "844/844 [==============================] - 17s 19ms/step - loss: 0.2431 - accuracy: 0.9253 - val_loss: 0.1339 - val_accuracy: 0.9648\n",
      "Epoch 2/5\n",
      "844/844 [==============================] - 16s 19ms/step - loss: 0.1079 - accuracy: 0.9667 - val_loss: 0.0784 - val_accuracy: 0.9783\n",
      "Epoch 3/5\n",
      "844/844 [==============================] - 16s 19ms/step - loss: 0.0875 - accuracy: 0.9739 - val_loss: 0.2356 - val_accuracy: 0.9180\n",
      "Epoch 4/5\n",
      "844/844 [==============================] - 16s 19ms/step - loss: 0.0772 - accuracy: 0.9776 - val_loss: 0.0792 - val_accuracy: 0.9780\n",
      "Epoch 5/5\n",
      "844/844 [==============================] - 16s 19ms/step - loss: 0.0655 - accuracy: 0.9801 - val_loss: 0.0579 - val_accuracy: 0.9843\n",
      "313/313 [==============================] - 1s 3ms/step - loss: 0.0548 - accuracy: 0.9858\n",
      "Train error: 1.99%\n",
      "Test error: 1.42%\n",
      "Duration: 81.44 seconds\n"
     ]
    }
   ],
   "source": [
    "conf25=Sequential()\n",
    " \n",
    "conf25.add(Conv2D(filters=64, kernel_size = (3,3), strides=(1,1), activation=\"relu\", kernel_initializer='glorot_uniform', input_shape=(28,28,1)))\n",
    "conf25.add(MaxPooling2D(pool_size=(2,2)))\n",
    "conf25.add(BatchNormalization())\n",
    "conf25.add(Conv2D(filters=128, kernel_size = (3,3), strides=(1,1), activation=\"relu\", kernel_initializer='glorot_uniform'))\n",
    "conf25.add(MaxPooling2D(pool_size=(2,2)))\n",
    "conf25.add(BatchNormalization())\n",
    "    \n",
    "conf25.add(Flatten())\n",
    "conf25.add(Dense(10,activation=\"softmax\"))\n",
    "    \n",
    "conf25.compile(loss=\"categorical_crossentropy\", optimizer=\"adam\", metrics=[\"accuracy\"])\n",
    "\n",
    "start_time = time.time()\n",
    "history = conf25.fit(\n",
    "    datagen.flow(train_images, train_labels, batch_size=64),\n",
    "    epochs=5,\n",
    "    validation_data=(val_images, val_labels),\n",
    "    callbacks=[es])\n",
    "duration = time.time()-start_time\n",
    "\n",
    "test_loss, test_acc = conf25.evaluate(test_images, test_labels)\n",
    "test_error = 1.0 - test_acc\n",
    "\n",
    "results.append({\n",
    "    \"Configuration\": \"conf25\",\n",
    "    \"Train Error\": f\"{(1.0 - history.history['accuracy'][-1]) * 100:.2f}%\",\n",
    "    \"Test Error\": f\"{test_error * 100:.2f}%\",\n",
    "    \"Duration(seconds)\": f\"{duration:.2f}\"\n",
    "})\n",
    "print(f\"Train error: {(1.0 - history.history['accuracy'][-1]) * 100:.2f}%\\nTest error: {test_error * 100:.2f}%\\nDuration: {duration:.2f} seconds\")"
   ]
  },
  {
   "cell_type": "code",
   "execution_count": 41,
   "id": "22a15260-f9e5-4cca-88da-523ce27eaba7",
   "metadata": {},
   "outputs": [
    {
     "name": "stdout",
     "output_type": "stream",
     "text": [
      "Epoch 1/30\n",
      "1688/1688 [==============================] - 90s 53ms/step - loss: 0.2093 - accuracy: 0.9409 - val_loss: 0.1131 - val_accuracy: 0.9765\n",
      "Epoch 2/30\n",
      "1688/1688 [==============================] - 90s 53ms/step - loss: 0.1056 - accuracy: 0.9711 - val_loss: 0.0596 - val_accuracy: 0.9882\n",
      "Epoch 3/30\n",
      "1688/1688 [==============================] - 89s 53ms/step - loss: 0.0768 - accuracy: 0.9781 - val_loss: 0.0469 - val_accuracy: 0.9893\n",
      "Epoch 4/30\n",
      "1688/1688 [==============================] - 95s 56ms/step - loss: 0.0672 - accuracy: 0.9812 - val_loss: 0.0672 - val_accuracy: 0.9835\n",
      "Epoch 5/30\n",
      "1688/1688 [==============================] - 98s 58ms/step - loss: 0.0578 - accuracy: 0.9835 - val_loss: 0.0794 - val_accuracy: 0.9815\n",
      "Epoch 6/30\n",
      "1688/1688 [==============================] - 99s 58ms/step - loss: 0.0540 - accuracy: 0.9843 - val_loss: 0.0407 - val_accuracy: 0.9903\n",
      "Epoch 7/30\n",
      "1688/1688 [==============================] - 91s 54ms/step - loss: 0.0469 - accuracy: 0.9869 - val_loss: 0.0531 - val_accuracy: 0.9892\n",
      "Epoch 8/30\n",
      "1688/1688 [==============================] - 89s 52ms/step - loss: 0.0441 - accuracy: 0.9873 - val_loss: 0.0416 - val_accuracy: 0.9923\n",
      "Epoch 9/30\n",
      "1688/1688 [==============================] - 88s 52ms/step - loss: 0.0409 - accuracy: 0.9880 - val_loss: 0.0531 - val_accuracy: 0.9917\n",
      "Epoch 10/30\n",
      "1688/1688 [==============================] - 89s 52ms/step - loss: 0.0388 - accuracy: 0.9891 - val_loss: 0.0725 - val_accuracy: 0.9898\n",
      "Epoch 11/30\n",
      "1688/1688 [==============================] - 88s 52ms/step - loss: 0.0392 - accuracy: 0.9884 - val_loss: 0.1135 - val_accuracy: 0.9880\n",
      "Epoch 12/30\n",
      "1688/1688 [==============================] - 88s 52ms/step - loss: 0.0335 - accuracy: 0.9904 - val_loss: 0.3436 - val_accuracy: 0.9842\n",
      "Epoch 13/30\n",
      "1688/1688 [==============================] - 92s 54ms/step - loss: 0.0320 - accuracy: 0.9908 - val_loss: 0.0691 - val_accuracy: 0.9875\n",
      "Epoch 14/30\n",
      "1688/1688 [==============================] - 95s 56ms/step - loss: 0.0325 - accuracy: 0.9912 - val_loss: 0.0605 - val_accuracy: 0.9915\n",
      "Epoch 15/30\n",
      "1688/1688 [==============================] - 91s 54ms/step - loss: 0.0315 - accuracy: 0.9912 - val_loss: 0.2222 - val_accuracy: 0.9885\n",
      "Epoch 16/30\n",
      "1687/1688 [============================>.] - ETA: 0s - loss: 0.0323 - accuracy: 0.9907Restoring model weights from the end of the best epoch: 8.\n",
      "1688/1688 [==============================] - 89s 53ms/step - loss: 0.0322 - accuracy: 0.9907 - val_loss: 0.1387 - val_accuracy: 0.9885\n",
      "Epoch 16: early stopping\n",
      "313/313 [==============================] - 5s 15ms/step - loss: 0.0276 - accuracy: 0.9936\n",
      "Train error: 0.93%\n",
      "Test error: 0.64%\n",
      "Duration: 1459.08 seconds\n"
     ]
    }
   ],
   "source": [
    "es = EarlyStopping(\n",
    "    monitor='val_accuracy', \n",
    "    patience=8, \n",
    "    verbose=1,\n",
    "    mode=\"max\",\n",
    "    restore_best_weights=True)\n",
    "\n",
    "final=Sequential()\n",
    " \n",
    "final.add(Conv2D(filters=128, kernel_size = (5,5), strides=(1,1), activation=\"relu\", kernel_initializer='he_uniform', input_shape=(28,28,1)))\n",
    "final.add(MaxPooling2D(pool_size=(2,2)))\n",
    "final.add(BatchNormalization())\n",
    "final.add(Conv2D(filters=256, kernel_size = (5,5), strides=(1,1), activation=\"relu\", kernel_initializer='he_uniform'))\n",
    "final.add(MaxPooling2D(pool_size=(2,2)))\n",
    "final.add(BatchNormalization())\n",
    "final.add(Conv2D(filters=512, kernel_size = (3,3), strides=(1,1), activation=\"relu\", kernel_initializer='he_uniform'))\n",
    "final.add(MaxPooling2D(pool_size=(2,2)))\n",
    "final.add(BatchNormalization())\n",
    "    \n",
    "final.add(Flatten())\n",
    "final.add(Dense(1024,activation=\"relu\"))\n",
    "final.add(Dropout(0.2))\n",
    "final.add(Dense(10,activation=\"softmax\"))\n",
    "    \n",
    "final.compile(loss=\"categorical_crossentropy\", optimizer=\"adam\", metrics=[\"accuracy\"])\n",
    "\n",
    "start_time = time.time()\n",
    "history = final.fit(\n",
    "    datagen.flow(train_images, train_labels, batch_size=32),\n",
    "    epochs=30,\n",
    "    validation_data=(val_images, val_labels),\n",
    "    callbacks=[es])\n",
    "duration = time.time()-start_time\n",
    "\n",
    "test_loss, test_acc = final.evaluate(test_images, test_labels)\n",
    "test_error = 1.0 - test_acc\n",
    "\n",
    "results.append({\n",
    "    \"Configuration\": \"final\",\n",
    "    \"Train Error\": f\"{(1.0 - history.history['accuracy'][-1]) * 100:.2f}%\",\n",
    "    \"Test Error\": f\"{test_error * 100:.2f}%\",\n",
    "    \"Duration(seconds)\": f\"{duration:.2f}\"\n",
    "})\n",
    "print(f\"Train error: {(1.0 - history.history['accuracy'][-1]) * 100:.2f}%\\nTest error: {test_error * 100:.2f}%\\nDuration: {duration:.2f} seconds\")"
   ]
  },
  {
   "cell_type": "code",
   "execution_count": 43,
   "id": "2a58bee0-28b2-4677-adc1-4c1d2437b86f",
   "metadata": {
    "tags": []
   },
   "outputs": [
    {
     "name": "stdout",
     "output_type": "stream",
     "text": [
      "Epoch 1/30\n",
      "1688/1688 [==============================] - 19s 10ms/step - loss: 0.1933 - accuracy: 0.9408 - val_loss: 0.0658 - val_accuracy: 0.9807\n",
      "Epoch 2/30\n",
      "1688/1688 [==============================] - 16s 9ms/step - loss: 0.0862 - accuracy: 0.9736 - val_loss: 0.0662 - val_accuracy: 0.9795\n",
      "Epoch 3/30\n",
      "1688/1688 [==============================] - 16s 10ms/step - loss: 0.0741 - accuracy: 0.9775 - val_loss: 0.0397 - val_accuracy: 0.9887\n",
      "Epoch 4/30\n",
      "1688/1688 [==============================] - 16s 9ms/step - loss: 0.0612 - accuracy: 0.9812 - val_loss: 0.0493 - val_accuracy: 0.9873\n",
      "Epoch 5/30\n",
      "1688/1688 [==============================] - 16s 10ms/step - loss: 0.0552 - accuracy: 0.9827 - val_loss: 0.0436 - val_accuracy: 0.9878\n",
      "Epoch 6/30\n",
      "1688/1688 [==============================] - 17s 10ms/step - loss: 0.0508 - accuracy: 0.9846 - val_loss: 0.0582 - val_accuracy: 0.9848\n",
      "Epoch 7/30\n",
      "1688/1688 [==============================] - 16s 10ms/step - loss: 0.0482 - accuracy: 0.9853 - val_loss: 0.0424 - val_accuracy: 0.9888\n",
      "Epoch 8/30\n",
      "1688/1688 [==============================] - 17s 10ms/step - loss: 0.0423 - accuracy: 0.9872 - val_loss: 0.0321 - val_accuracy: 0.9932\n",
      "Epoch 9/30\n",
      "1688/1688 [==============================] - 16s 10ms/step - loss: 0.0438 - accuracy: 0.9870 - val_loss: 0.0381 - val_accuracy: 0.9890\n",
      "Epoch 10/30\n",
      "1688/1688 [==============================] - 17s 10ms/step - loss: 0.0383 - accuracy: 0.9881 - val_loss: 0.0560 - val_accuracy: 0.9867\n",
      "Epoch 11/30\n",
      "1688/1688 [==============================] - 16s 9ms/step - loss: 0.0375 - accuracy: 0.9882 - val_loss: 0.0477 - val_accuracy: 0.9873\n",
      "Epoch 12/30\n",
      "1688/1688 [==============================] - 16s 10ms/step - loss: 0.0347 - accuracy: 0.9893 - val_loss: 0.0332 - val_accuracy: 0.9937\n",
      "Epoch 13/30\n",
      "1688/1688 [==============================] - 16s 9ms/step - loss: 0.0343 - accuracy: 0.9896 - val_loss: 0.0349 - val_accuracy: 0.9927\n",
      "Epoch 14/30\n",
      "1688/1688 [==============================] - 15s 9ms/step - loss: 0.0334 - accuracy: 0.9901 - val_loss: 0.0321 - val_accuracy: 0.9928\n",
      "Epoch 15/30\n",
      "1688/1688 [==============================] - 15s 9ms/step - loss: 0.0310 - accuracy: 0.9905 - val_loss: 0.0480 - val_accuracy: 0.9898\n",
      "Epoch 16/30\n",
      "1688/1688 [==============================] - 15s 9ms/step - loss: 0.0319 - accuracy: 0.9907 - val_loss: 0.0367 - val_accuracy: 0.9927\n",
      "Epoch 17/30\n",
      "1688/1688 [==============================] - 15s 9ms/step - loss: 0.0313 - accuracy: 0.9902 - val_loss: 0.0354 - val_accuracy: 0.9917\n",
      "Epoch 18/30\n",
      "1688/1688 [==============================] - 14s 9ms/step - loss: 0.0291 - accuracy: 0.9909 - val_loss: 0.0330 - val_accuracy: 0.9923\n",
      "Epoch 19/30\n",
      "1688/1688 [==============================] - 14s 8ms/step - loss: 0.0304 - accuracy: 0.9908 - val_loss: 0.0415 - val_accuracy: 0.9920\n",
      "Epoch 20/30\n",
      "1686/1688 [============================>.] - ETA: 0s - loss: 0.0291 - accuracy: 0.9911Restoring model weights from the end of the best epoch: 12.\n",
      "1688/1688 [==============================] - 14s 9ms/step - loss: 0.0291 - accuracy: 0.9911 - val_loss: 0.0346 - val_accuracy: 0.9922\n",
      "Epoch 20: early stopping\n",
      "313/313 [==============================] - 1s 3ms/step - loss: 0.0211 - accuracy: 0.9940\n",
      "Train error: 0.89%\n",
      "Test error: 0.60%\n",
      "Duration: 317.77 seconds\n"
     ]
    }
   ],
   "source": [
    "best=Sequential()\n",
    " \n",
    "best.add(Conv2D(filters=32, kernel_size = (5,5), strides=(1,1), activation=\"relu\", kernel_initializer='he_uniform', input_shape=(28,28,1)))\n",
    "best.add(MaxPooling2D(pool_size=(2,2)))\n",
    "best.add(BatchNormalization())\n",
    "best.add(Conv2D(filters=64, kernel_size = (5,5), strides=(1,1), activation=\"relu\", kernel_initializer='he_uniform'))\n",
    "best.add(MaxPooling2D(pool_size=(2,2)))\n",
    "best.add(BatchNormalization())\n",
    "best.add(Conv2D(filters=128, kernel_size = (3,3), strides=(1,1), activation=\"relu\", kernel_initializer='he_uniform'))\n",
    "best.add(MaxPooling2D(pool_size=(2,2)))\n",
    "best.add(BatchNormalization())\n",
    "    \n",
    "best.add(Flatten())\n",
    "best.add(Dense(256,activation=\"relu\"))\n",
    "best.add(Dropout(0.2))\n",
    "best.add(Dense(10,activation=\"softmax\"))\n",
    "    \n",
    "best.compile(loss=\"categorical_crossentropy\", optimizer=\"adam\", metrics=[\"accuracy\"])\n",
    "\n",
    "start_time = time.time()\n",
    "history = best.fit(\n",
    "    datagen.flow(train_images, train_labels, batch_size=32),\n",
    "    epochs=30,\n",
    "    validation_data=(val_images, val_labels),\n",
    "    callbacks=[es])\n",
    "duration = time.time()-start_time\n",
    "\n",
    "test_loss, test_acc = best.evaluate(test_images, test_labels)\n",
    "test_error = 1.0 - test_acc\n",
    "\n",
    "results.append({\n",
    "    \"Configuration\": \"best\",\n",
    "    \"Train Error\": f\"{(1.0 - history.history['accuracy'][-1]) * 100:.2f}%\",\n",
    "    \"Test Error\": f\"{test_error * 100:.2f}%\",\n",
    "    \"Duration(seconds)\": f\"{duration:.2f}\"\n",
    "})\n",
    "print(f\"Train error: {(1.0 - history.history['accuracy'][-1]) * 100:.2f}%\\nTest error: {test_error * 100:.2f}%\\nDuration: {duration:.2f} seconds\")"
   ]
  },
  {
   "cell_type": "code",
   "execution_count": 44,
   "id": "ef45a864-ff2a-40c6-8741-c37bc8aa979f",
   "metadata": {},
   "outputs": [
    {
     "name": "stdout",
     "output_type": "stream",
     "text": [
      "   Configuration Train Error Test Error Duration(seconds)\n",
      "0          model       2.91%      2.84%            162.14\n",
      "1          conf1       2.84%      2.76%            165.65\n",
      "2          conf2       2.98%      2.04%            149.57\n",
      "3          conf3       3.94%      2.57%             89.35\n",
      "4          conf4       2.02%      1.47%            295.96\n",
      "5          conf5       2.94%      2.27%            152.92\n",
      "6          conf6       2.60%      1.69%            242.43\n",
      "7          conf7       2.88%      1.78%             72.46\n",
      "8          conf8       3.01%      2.21%            462.22\n",
      "9          conf9      23.27%     46.66%            115.73\n",
      "10        conf10       2.46%      1.20%            227.57\n",
      "11        conf11       2.94%      2.38%             60.68\n",
      "12        conf12       4.45%      2.12%             52.04\n",
      "13        conf13       4.50%      3.37%            159.50\n",
      "14        conf14       5.19%      5.81%            123.64\n",
      "15        conf15       3.89%      3.26%            159.73\n",
      "16        conf16      34.42%     17.14%            141.16\n",
      "17        conf17       4.16%      8.24%            163.43\n",
      "18        conf18       2.59%      1.52%            172.46\n",
      "19        conf19       2.31%      1.41%            207.98\n",
      "20        conf20       2.46%      1.44%            264.65\n",
      "21        conf21       2.81%      2.36%            149.08\n",
      "22        conf22      88.25%     84.28%            149.58\n",
      "23        conf23       3.52%      1.29%            272.95\n",
      "24        conf24       6.09%      1.26%            277.37\n",
      "25        conf25       1.99%      1.42%             81.44\n",
      "26         final       0.93%      0.64%           1459.08\n",
      "27          best       0.89%      0.60%            317.77\n"
     ]
    }
   ],
   "source": [
    "df = pd.DataFrame(results)\n",
    "print(df)"
   ]
  },
  {
   "cell_type": "markdown",
   "id": "22292668-d5c3-431e-a6c0-9d351d9b17f1",
   "metadata": {},
   "source": [
    "## Daftar Referensi\n",
    "1. https://paperswithcode.com/datasets?task=image-classification\n",
    "2. https://keras.io/api/datasets/mnist/\n",
    "3. https://www.kaggle.com/code/vortexkol/alexnet-cnn-architecture-on-tensorflow-beginner\n",
    "4. https://keras.io/layers/core/\n",
    "5. https://keras.io/layers/convolutional/\n",
    "6. https://keras.io/layers/pooling/\n",
    "7. https://www.kaggle.com/yassineghouzam/introduction-to-cnn-keras-0-997-top-6\n",
    "8. https://keras.io/api/callbacks/early_stopping/"
   ]
  }
 ],
 "metadata": {
  "kernelspec": {
   "display_name": "Python 3 (ipykernel)",
   "language": "python",
   "name": "python3"
  },
  "language_info": {
   "codemirror_mode": {
    "name": "ipython",
    "version": 3
   },
   "file_extension": ".py",
   "mimetype": "text/x-python",
   "name": "python",
   "nbconvert_exporter": "python",
   "pygments_lexer": "ipython3",
   "version": "3.11.4"
  }
 },
 "nbformat": 4,
 "nbformat_minor": 5
}
