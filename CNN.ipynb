{
 "cells": [
  {
   "cell_type": "markdown",
   "id": "c96a7315-43c1-4604-8fc4-a663cf9f834f",
   "metadata": {},
   "source": [
    "# Laporan Project UAS Machine Learning\n",
    "\n",
    "Adi Christian C14210091\\\n",
    "Meike Surajiman C14210116\\\n",
    "Steven Adrian Gracia C14210171\n"
   ]
  },
  {
   "cell_type": "code",
   "execution_count": 1,
   "id": "d9a7b788-8cc8-4a27-bd30-01365b57a674",
   "metadata": {},
   "outputs": [
    {
     "name": "stdout",
     "output_type": "stream",
     "text": [
      "WARNING:tensorflow:From C:\\Users\\Steven Adrian\\anaconda3\\envs\\islp\\Lib\\site-packages\\keras\\src\\losses.py:2976: The name tf.losses.sparse_softmax_cross_entropy is deprecated. Please use tf.compat.v1.losses.sparse_softmax_cross_entropy instead.\n",
      "\n",
      "aman\n"
     ]
    }
   ],
   "source": [
    "# libraries\n",
    "import numpy as np \n",
    "import pandas as pd \n",
    "import matplotlib.pyplot as plt\n",
    "import seaborn as sns\n",
    "from sklearn.model_selection import train_test_split\n",
    "import tensorflow as tf\n",
    "from tensorflow import keras\n",
    "from keras.datasets import mnist\n",
    "from keras.models import Sequential\n",
    "from keras.layers import Conv2D, MaxPooling2D \n",
    "from keras.layers import Dense, Dropout, Flatten \n",
    "from tensorflow.keras.layers import BatchNormalization\n",
    "from tensorflow.keras import initializers\n",
    "from keras.preprocessing.image import ImageDataGenerator\n",
    "from keras.utils import to_categorical\n",
    "from keras.callbacks import EarlyStopping\n",
    "import time\n",
    "print(\"aman\")"
   ]
  },
  {
   "cell_type": "markdown",
   "id": "64092b7a-4076-4c22-8a88-2a665f240f39",
   "metadata": {
    "tags": []
   },
   "source": [
    "## Pengenalan dataset\n",
    "Dataset yang kami pakai adalah [MNIST](http://yann.lecun.com/exdb/mnist/) . Dataset ini berisi beberapa gambar angka yang ditulis tangan. Dataset ini memberikan kesempatan bagi algoritma machine learning untuk mengidentifikasi digit yang benar dari gambar-gambar tersebut. Dataset yang kami gunakan berasal langsung dari keras."
   ]
  },
  {
   "cell_type": "code",
   "execution_count": 2,
   "id": "8590500e-b079-4ad4-9ba1-f1b5537cc836",
   "metadata": {
    "tags": []
   },
   "outputs": [],
   "source": [
    "(train_images, train_labels), (test_images, test_labels) = mnist.load_data()"
   ]
  },
  {
   "cell_type": "markdown",
   "id": "facffc80-643f-4b87-985b-eb68263286dd",
   "metadata": {
    "tags": []
   },
   "source": [
    "## Data Preprocessing\n",
    "Ada beberapa hal yang perlu dilakukan sebelum memproses dataset tersebut, diantaranya:\n",
    "1. Normalisasi\n",
    "2. Reshape\n",
    "3. Label encoding\n",
    "4. Train-test split"
   ]
  },
  {
   "cell_type": "markdown",
   "id": "c585228b-efbd-48f6-85cd-0e33a471505d",
   "metadata": {},
   "source": [
    "1. Data yang dimuat berada di range 0 sampai 255. Supaya CNN konvergen lebih cepat, bisa dilakukan normalisasi."
   ]
  },
  {
   "cell_type": "code",
   "execution_count": 3,
   "id": "677ed96c-b818-40b1-9f75-bc0975899ff4",
   "metadata": {
    "tags": []
   },
   "outputs": [],
   "source": [
    "train_images = train_images / 255.0\n",
    "test_images = test_images / 255.0"
   ]
  },
  {
   "cell_type": "markdown",
   "id": "8986492e-3429-44e1-a4be-6d748dd185b6",
   "metadata": {},
   "source": [
    "2. Array X akan lebih mudah divisualisasi jika direshape sebagai \"gambar\" dengan height dan width 28px beserta grayscalenya."
   ]
  },
  {
   "cell_type": "code",
   "execution_count": 4,
   "id": "58ef1c7a-eaf0-44a2-9b73-47e73db83cc5",
   "metadata": {
    "tags": []
   },
   "outputs": [
    {
     "name": "stdout",
     "output_type": "stream",
     "text": [
      "(60000, 28, 28, 1)\n"
     ]
    }
   ],
   "source": [
    "train_images = train_images.reshape((-1,28,28,1)).astype(\"float32\")\n",
    "test_images = test_images.reshape((-1,28,28,1)).astype(\"float32\")\n",
    "print(train_images.shape)"
   ]
  },
  {
   "cell_type": "markdown",
   "id": "d4c314c5-4c43-41c1-a397-48429cda7b74",
   "metadata": {},
   "source": [
    "3. Karena y (label tiap gambar) tidak memiliki relasi ordinal, maka dilakukan one-hot encoding sehingga hasil dari CNN tidak terpengaruh selisih angka."
   ]
  },
  {
   "cell_type": "code",
   "execution_count": 5,
   "id": "d1242fbf-2849-4c8d-8e04-28ac7be1ed46",
   "metadata": {
    "tags": []
   },
   "outputs": [
    {
     "name": "stdout",
     "output_type": "stream",
     "text": [
      "(60000, 10)\n"
     ]
    }
   ],
   "source": [
    "train_labels = to_categorical(train_labels)\n",
    "test_labels = to_categorical(test_labels)\n",
    "print(train_labels.shape)"
   ]
  },
  {
   "cell_type": "markdown",
   "id": "23474624-0005-4450-92be-e6406da9d3ed",
   "metadata": {},
   "source": [
    "4. Split data untuk train dan test"
   ]
  },
  {
   "cell_type": "code",
   "execution_count": 6,
   "id": "bb7e1e2e-1a51-42b6-96ad-909fdc2b73fa",
   "metadata": {},
   "outputs": [
    {
     "name": "stdout",
     "output_type": "stream",
     "text": [
      "(54000, 28, 28, 1) (6000, 28, 28, 1)\n"
     ]
    }
   ],
   "source": [
    "train_images, val_images, train_labels, val_labels = train_test_split(\n",
    "    train_images, train_labels, test_size=0.1, random_state=42\n",
    ")\n",
    "print(train_images.shape, val_images.shape)"
   ]
  },
  {
   "cell_type": "markdown",
   "id": "1a88f673-4870-4e6f-b1b3-639d9ff193d1",
   "metadata": {},
   "source": [
    "Contoh visualisasi"
   ]
  },
  {
   "cell_type": "code",
   "execution_count": 7,
   "id": "dc6e6584-1ce8-4cb2-8253-38c5ae30a863",
   "metadata": {
    "tags": []
   },
   "outputs": [
    {
     "data": {
      "image/png": "[encoded data removed]",
      "text/plain": [
       "<Figure size 2000x1000 with 5 Axes>"
      ]
     },
     "metadata": {},
     "output_type": "display_data"
    }
   ],
   "source": [
    "temp = train_images.reshape(train_images.shape[0], 28, 28)\n",
    "\n",
    "fig, axis = plt.subplots(1, 5, figsize=(20, 10))\n",
    "for i, ax in enumerate(axis.flat):\n",
    "    ax.imshow(temp[i], cmap='binary')\n",
    "    digit = train_labels[i].argmax()\n",
    "    ax.set(title = f\"Real Number is {digit}\");"
   ]
  },
  {
   "cell_type": "markdown",
   "id": "1843affb-6a75-486c-9752-481582b9a798",
   "metadata": {},
   "source": [
    "Untuk menghindari overfitting, dataset yang sudah ada diperluas dengan menggunakan data augmentation. Caranya adalah memberi sedikit variasi untuk setiap data dengan cara memperbesar/kecil, mengubah tempat, dll."
   ]
  },
  {
   "cell_type": "code",
   "execution_count": 8,
   "id": "e8f352eb-4ebf-4bfb-bdb8-5e495d73785e",
   "metadata": {
    "tags": []
   },
   "outputs": [],
   "source": [
    "datagen = ImageDataGenerator(\n",
    "        featurewise_center=False, \n",
    "        samplewise_center=False, \n",
    "        featurewise_std_normalization=False,\n",
    "        samplewise_std_normalization=False, \n",
    "        zca_whitening=False,  \n",
    "        rotation_range=15,  \n",
    "        zoom_range = 0.1, \n",
    "        width_shift_range=0.1, \n",
    "        height_shift_range=0.1, \n",
    "        horizontal_flip=False,  \n",
    "        vertical_flip=False)  \n",
    "# akan digunakan saat fitting nanti"
   ]
  },
  {
   "cell_type": "markdown",
   "id": "399aa2d5-c90e-4ca2-9bc0-c7d539fbd1c0",
   "metadata": {},
   "source": [
    "## Metode CNN: AlexNet\n",
    "AlexNet adalah sebuah arsitektur CNN yang cukup simpel. Di sini akan diimplementasikan Alexnet dari awal menggunakan Keras Sequential API dengan cara menumpuk layer CNN satu sama lain.\n",
    "Ada beberapa jenis layer CNN di AlexNet:\n",
    "- Convolutional layer: sebuah perkalian dot product antara 2 elemen, berisi operasi convolutional antara filter dan image\n",
    "- Batch Normalisation layer: layer tambahan yang menstandarisasi dan menormalisasi nilai input\n",
    "- Max Pooling layer: mencari nilai max dari sebuah range sebagai output\n",
    "- Flatten layer: mengubah image menjadi array 1D\n",
    "- Dense layer: berisi banyak neuron"
   ]
  },
  {
   "cell_type": "code",
   "execution_count": 9,
   "id": "5b7af4cb-fdcd-4ba7-a3a2-e5a95332044b",
   "metadata": {},
   "outputs": [],
   "source": [
    "# early stopping untuk berhenti dahulu jika sudah fit\n",
    "es = EarlyStopping(\n",
    "    monitor='val_accuracy', \n",
    "    patience=3, \n",
    "    verbose=1,\n",
    "    mode=\"max\",\n",
    "    restore_best_weights=True)"
   ]
  },
  {
   "cell_type": "code",
   "execution_count": 10,
   "id": "0a78fef4-a57d-4073-a603-57294e00554c",
   "metadata": {},
   "outputs": [
    {
     "name": "stdout",
     "output_type": "stream",
     "text": [
      "WARNING:tensorflow:From C:\\Users\\Steven Adrian\\anaconda3\\envs\\islp\\Lib\\site-packages\\keras\\src\\backend.py:873: The name tf.get_default_graph is deprecated. Please use tf.compat.v1.get_default_graph instead.\n",
      "\n",
      "WARNING:tensorflow:From C:\\Users\\Steven Adrian\\anaconda3\\envs\\islp\\Lib\\site-packages\\keras\\src\\layers\\normalization\\batch_normalization.py:979: The name tf.nn.fused_batch_norm is deprecated. Please use tf.compat.v1.nn.fused_batch_norm instead.\n",
      "\n",
      "WARNING:tensorflow:From C:\\Users\\Steven Adrian\\anaconda3\\envs\\islp\\Lib\\site-packages\\keras\\src\\optimizers\\__init__.py:309: The name tf.train.Optimizer is deprecated. Please use tf.compat.v1.train.Optimizer instead.\n",
      "\n",
      "Model: \"sequential\"\n",
      "_________________________________________________________________\n",
      " Layer (type)                Output Shape              Param #   \n",
      "=================================================================\n",
      " conv2d (Conv2D)             (None, 26, 26, 64)        640       \n",
      "                                                                 \n",
      " batch_normalization (Batch  (None, 26, 26, 64)        256       \n",
      " Normalization)                                                  \n",
      "                                                                 \n",
      " conv2d_1 (Conv2D)           (None, 24, 24, 64)        36928     \n",
      "                                                                 \n",
      " batch_normalization_1 (Bat  (None, 24, 24, 64)        256       \n",
      " chNormalization)                                                \n",
      "                                                                 \n",
      " flatten (Flatten)           (None, 36864)             0         \n",
      "                                                                 \n",
      " dense (Dense)               (None, 10)                368650    \n",
      "                                                                 \n",
      "=================================================================\n",
      "Total params: 406730 (1.55 MB)\n",
      "Trainable params: 406474 (1.55 MB)\n",
      "Non-trainable params: 256 (1.00 KB)\n",
      "_________________________________________________________________\n"
     ]
    }
   ],
   "source": [
    "model=Sequential()\n",
    " \n",
    "model.add(Conv2D(filters=64, kernel_size = (3,3), strides=(1,1), activation=\"relu\", kernel_initializer='glorot_uniform', input_shape=(28,28,1)))\n",
    "model.add(BatchNormalization()) \n",
    "model.add(Conv2D(filters=64, kernel_size = (3,3), strides=(1,1), activation=\"relu\", kernel_initializer='glorot_uniform', input_shape=(28,28,1)))\n",
    "model.add(BatchNormalization())\n",
    "    \n",
    "model.add(Flatten())\n",
    "model.add(Dense(10,activation=\"softmax\"))\n",
    "    \n",
    "model.compile(loss=\"categorical_crossentropy\", optimizer=\"adam\", metrics=[\"accuracy\"])\n",
    "model.summary()"
   ]
  },
  {
   "cell_type": "code",
   "execution_count": 11,
   "id": "6ab00126-ae61-408e-986c-9297369342d1",
   "metadata": {},
   "outputs": [
    {
     "name": "stdout",
     "output_type": "stream",
     "text": [
      "Epoch 1/5\n",
      "WARNING:tensorflow:From C:\\Users\\Steven Adrian\\anaconda3\\envs\\islp\\Lib\\site-packages\\keras\\src\\utils\\tf_utils.py:492: The name tf.ragged.RaggedTensorValue is deprecated. Please use tf.compat.v1.ragged.RaggedTensorValue instead.\n",
      "\n",
      "WARNING:tensorflow:From C:\\Users\\Steven Adrian\\anaconda3\\envs\\islp\\Lib\\site-packages\\keras\\src\\engine\\base_layer_utils.py:384: The name tf.executing_eagerly_outside_functions is deprecated. Please use tf.compat.v1.executing_eagerly_outside_functions instead.\n",
      "\n",
      "844/844 [==============================] - 31s 36ms/step - loss: 0.6748 - accuracy: 0.8851 - val_loss: 0.1612 - val_accuracy: 0.9572\n",
      "Epoch 2/5\n",
      "844/844 [==============================] - 29s 35ms/step - loss: 0.2102 - accuracy: 0.9506 - val_loss: 0.1419 - val_accuracy: 0.9662\n",
      "Epoch 3/5\n",
      "844/844 [==============================] - 30s 35ms/step - loss: 0.1518 - accuracy: 0.9622 - val_loss: 0.0964 - val_accuracy: 0.9742\n",
      "Epoch 4/5\n",
      "844/844 [==============================] - 30s 35ms/step - loss: 0.1297 - accuracy: 0.9653 - val_loss: 0.1407 - val_accuracy: 0.9657\n",
      "Epoch 5/5\n",
      "844/844 [==============================] - 30s 35ms/step - loss: 0.1034 - accuracy: 0.9712 - val_loss: 0.0622 - val_accuracy: 0.9848\n"
     ]
    }
   ],
   "source": [
    "start_time = time.time()\n",
    "history = model.fit(\n",
    "    datagen.flow(train_images, train_labels, batch_size=64),\n",
    "    epochs=5,\n",
    "    validation_data=(val_images, val_labels),\n",
    "    callbacks=[es])\n",
    "duration = time.time()-start_time"
   ]
  },
  {
   "cell_type": "code",
   "execution_count": 12,
   "id": "909c2d1f-9c90-4054-99a9-67ca0f20b37d",
   "metadata": {},
   "outputs": [
    {
     "name": "stdout",
     "output_type": "stream",
     "text": [
      "313/313 [==============================] - 2s 6ms/step - loss: 0.0682 - accuracy: 0.9807\n"
     ]
    }
   ],
   "source": [
    "test_loss, test_acc = model.evaluate(test_images, test_labels)\n",
    "test_error = 1.0 - test_acc"
   ]
  },
  {
   "cell_type": "code",
   "execution_count": 13,
   "id": "9a3fa055-be9b-4319-b926-a1098c3719bc",
   "metadata": {},
   "outputs": [
    {
     "name": "stdout",
     "output_type": "stream",
     "text": [
      "Train error: 2.88%\n",
      "Test error: 1.93%\n",
      "Duration: 149.24 seconds\n"
     ]
    }
   ],
   "source": [
    "print(f\"Train error: {(1.0 - history.history['accuracy'][-1]) * 100:.2f}%\\nTest error: {test_error * 100:.2f}%\\nDuration: {duration:.2f} seconds\")"
   ]
  },
  {
   "cell_type": "code",
   "execution_count": 14,
   "id": "9043c15b-8107-4163-a760-43ee05d12593",
   "metadata": {},
   "outputs": [],
   "source": [
    "results = []\n",
    "results.append({\n",
    "    \"Configuration\": \"model\",\n",
    "    \"Train Error\": f\"{(1.0 - history.history['accuracy'][-1]) * 100:.2f}%\",\n",
    "    \"Test Error\": f\"{test_error * 100:.2f}%\",\n",
    "    \"Duration(seconds)\": f\"{duration:.2f}\"\n",
    "})"
   ]
  },
  {
   "cell_type": "markdown",
   "id": "b87ff5f7-9c43-47a8-81a3-de37ea1a68f1",
   "metadata": {},
   "source": [
    "## Konfigurasi parameter CNN\n",
    "Kami mencoba beberapa konfigurasi parameter di CNN. Diantaranya:\n",
    "- Batch Size\n",
    "- Kernel Initializer (HE/Glorot)\n",
    "- Jumlah hidden layer\n",
    "- Jumlah channels hidden layer\n",
    "- Kernel size hidden layer\n",
    "- Stride hidden layer\n",
    "- Activation function hidden layer\n",
    "- Jumlah neuron output layer\n",
    "- Activation function output layer\n",
    "- Loss function\n",
    "- Regularization\n",
    "- Max pooling\n",
    "\n",
    "\n",
    "Data yang kami dapatkan sebagai berikut dengan implementasi di bawahnya\n",
    "| CONFIGURATION | LAYERS | REGULARIZATION | TRAIN ERROR | TEST ERROR | DURATION(seconds) |\n",
    "|---------------|--------|----------------|-------------|------------|----------|\n",
    "| Model         |Batch=64, Epoch=5,<br>C64x28x28,K=3,S=2,ReLu,Glorot<br>C64x28x28,K=3,S=2,ReLu,Glorot<br>F10,softmax,cross-entropy loss||%|%||\n",
    "| Conf1         |Batch=32, Epoch=5,<br>C64x28x28,K=3,S=2,ReLu,Glorot<br>C64x28x28,K=3,S=2,ReLu,Glorot<br>F10,softmax,cross-entropy loss||%|%||\n",
    "| Conf2         |Batch=128, Epoch=5,<br>C64x28x28,K=3,S=2,ReLu,Glorot<br>C64x28x28,K=3,S=2,ReLu,Glorot<br>F10,softmax,cross-entropy loss||%|%||\n",
    "| Conf3         |Batch=64, Epoch=3,<br>C64x28x28,K=3,S=2,ReLu,Glorot<br>C64x28x28,K=3,S=2,ReLu,Glorot<br>F10,softmax,cross-entropy loss||%|%||\n",
    "| Conf4         |Batch=64, Epoch=10,<br>C64x28x28,K=3,S=2,ReLu,Glorot<br>C64x28x28,K=3,S=2,ReLu,Glorot<br>F10,softmax,cross-entropy loss||%|%||\n",
    "| Conf5         |Batch=64, Epoch=5,<br>C64x28x28,K=3,S=2,ReLu,HE<br>C64x28x28,K=3,S=2,ReLu,HE<br>F10,softmax,cross-entropy loss||%|%||\n",
    "| Conf6         |Batch=64, Epoch=5,<br>C64x28x28,K=3,S=2,ReLu,Glorot<br>C64x28x28,K=3,S=2,ReLu,Glorot<br>C64x28x28,K=3,S=2,ReLu,Glorot<br>F10,softmax,cross-entropy loss||%|%||\n",
    "| Conf7         |Batch=64, Epoch=5,<br>C32x28x28,K=3,S=2,ReLu,Glorot<br>C32x28x28,K=3,S=2,ReLu,Glorot<br>F10,softmax,cross-entropy loss||%|%||\n",
    "| Conf8         |Batch=64, Epoch=5,<br>C128x28x28,K=3,S=2,ReLu,Glorot<br>C128x28x28,K=3,S=2,ReLu,Glorot<br>F10,softmax,cross-entropy loss||%|%||\n",
    "| Conf9         |Batch=64, Epoch=5,<br>C128x28x28,K=1,S=2,ReLu,Glorot<br>C128x28x28,K=1,S=2,ReLu,Glorot<br>F10,softmax,cross-entropy loss||%|%||\n",
    "| Conf10        |Batch=64, Epoch=5,<br>C128x28x28,K=5,S=2,ReLu,Glorot<br>C128x28x28,K=5,S=2,ReLu,Glorot<br>F10,softmax,cross-entropy loss||%|%||\n",
    "\n",
    "Dari data yang kami dapatkan, konfigurasi yang terbaik adalah ConfXX dengan train error XX% dan test error XX%"
   ]
  },
  {
   "cell_type": "code",
   "execution_count": 15,
   "id": "97e43b28-6004-4154-ae64-3f2b4d3be14c",
   "metadata": {},
   "outputs": [
    {
     "name": "stdout",
     "output_type": "stream",
     "text": [
      "Epoch 1/5\n",
      "1688/1688 [==============================] - 32s 18ms/step - loss: 0.7965 - accuracy: 0.8840 - val_loss: 0.2565 - val_accuracy: 0.9397\n",
      "Epoch 2/5\n",
      "1688/1688 [==============================] - 32s 19ms/step - loss: 0.2154 - accuracy: 0.9490 - val_loss: 0.1070 - val_accuracy: 0.9658\n",
      "Epoch 3/5\n",
      "1688/1688 [==============================] - 30s 18ms/step - loss: 0.1463 - accuracy: 0.9604 - val_loss: 0.0727 - val_accuracy: 0.9792\n",
      "Epoch 4/5\n",
      "1688/1688 [==============================] - 30s 18ms/step - loss: 0.1068 - accuracy: 0.9693 - val_loss: 0.0672 - val_accuracy: 0.9807\n",
      "Epoch 5/5\n",
      "1688/1688 [==============================] - 32s 19ms/step - loss: 0.0975 - accuracy: 0.9716 - val_loss: 0.0559 - val_accuracy: 0.9825\n",
      "313/313 [==============================] - 2s 6ms/step - loss: 0.0460 - accuracy: 0.9854\n",
      "Train error: 2.84%\n",
      "Test error: 1.46%\n",
      "Duration: 155.76 seconds\n"
     ]
    }
   ],
   "source": [
    "conf1=Sequential()\n",
    " \n",
    "conf1.add(Conv2D(filters=64, kernel_size = (3,3), strides=(1,1), activation=\"relu\", kernel_initializer='glorot_uniform', input_shape=(28,28,1)))\n",
    "conf1.add(BatchNormalization())\n",
    "conf1.add(Conv2D(filters=64, kernel_size = (3,3), strides=(1,1), activation=\"relu\", kernel_initializer='glorot_uniform'))\n",
    "conf1.add(BatchNormalization())\n",
    "    \n",
    "conf1.add(Flatten())\n",
    "conf1.add(Dense(10,activation=\"softmax\"))\n",
    "    \n",
    "conf1.compile(loss=\"categorical_crossentropy\", optimizer=\"adam\", metrics=[\"accuracy\"])\n",
    "\n",
    "start_time = time.time()\n",
    "history = conf1.fit(\n",
    "    datagen.flow(train_images, train_labels, batch_size=32),\n",
    "    epochs=5,\n",
    "    validation_data=(val_images, val_labels),\n",
    "    callbacks=[es])\n",
    "duration = time.time()-start_time\n",
    "\n",
    "test_loss, test_acc = conf1.evaluate(test_images, test_labels)\n",
    "test_error = 1.0 - test_acc\n",
    "\n",
    "results.append({\n",
    "    \"Configuration\": \"conf1\",\n",
    "    \"Train Error\": f\"{(1.0 - history.history['accuracy'][-1]) * 100:.2f}%\",\n",
    "    \"Test Error\": f\"{test_error * 100:.2f}%\",\n",
    "    \"Duration(seconds)\": f\"{duration:.2f}\"\n",
    "})\n",
    "print(f\"Train error: {(1.0 - history.history['accuracy'][-1]) * 100:.2f}%\\nTest error: {test_error * 100:.2f}%\\nDuration: {duration:.2f} seconds\")"
   ]
  },
  {
   "cell_type": "code",
   "execution_count": 16,
   "id": "bebf2e90-032a-4124-87c1-6aa95ee073f2",
   "metadata": {},
   "outputs": [
    {
     "name": "stdout",
     "output_type": "stream",
     "text": [
      "Epoch 1/5\n",
      "422/422 [==============================] - 30s 70ms/step - loss: 0.6879 - accuracy: 0.8767 - val_loss: 3.0191 - val_accuracy: 0.3137\n",
      "Epoch 2/5\n",
      "422/422 [==============================] - 29s 68ms/step - loss: 0.2685 - accuracy: 0.9462 - val_loss: 0.1976 - val_accuracy: 0.9537\n",
      "Epoch 3/5\n",
      "422/422 [==============================] - 29s 68ms/step - loss: 0.1651 - accuracy: 0.9609 - val_loss: 0.2201 - val_accuracy: 0.9467\n",
      "Epoch 4/5\n",
      "422/422 [==============================] - 29s 68ms/step - loss: 0.1376 - accuracy: 0.9647 - val_loss: 0.1379 - val_accuracy: 0.9708\n",
      "Epoch 5/5\n",
      "422/422 [==============================] - 29s 68ms/step - loss: 0.1114 - accuracy: 0.9711 - val_loss: 0.1685 - val_accuracy: 0.9602\n",
      "313/313 [==============================] - 2s 6ms/step - loss: 0.1671 - accuracy: 0.9606\n",
      "Train error: 2.89%\n",
      "Test error: 3.94%\n",
      "Duration: 144.78 seconds\n"
     ]
    }
   ],
   "source": [
    "conf2=Sequential()\n",
    " \n",
    "conf2.add(Conv2D(filters=64, kernel_size = (3,3), strides=(1,1), activation=\"relu\", kernel_initializer='glorot_uniform', input_shape=(28,28,1)))\n",
    "conf2.add(BatchNormalization())\n",
    "conf2.add(Conv2D(filters=64, kernel_size = (3,3), strides=(1,1), activation=\"relu\", kernel_initializer='glorot_uniform'))\n",
    "conf2.add(BatchNormalization())\n",
    "    \n",
    "conf2.add(Flatten())\n",
    "conf2.add(Dense(10,activation=\"softmax\"))\n",
    "    \n",
    "conf2.compile(loss=\"categorical_crossentropy\", optimizer=\"adam\", metrics=[\"accuracy\"])\n",
    "\n",
    "start_time = time.time()\n",
    "history = conf2.fit(\n",
    "    datagen.flow(train_images, train_labels, batch_size=128),\n",
    "    epochs=5,\n",
    "    validation_data=(val_images, val_labels),\n",
    "    callbacks=[es])\n",
    "duration = time.time()-start_time\n",
    "\n",
    "test_loss, test_acc = conf2.evaluate(test_images, test_labels)\n",
    "test_error = 1.0 - test_acc\n",
    "\n",
    "results.append({\n",
    "    \"Configuration\": \"conf2\",\n",
    "    \"Train Error\": f\"{(1.0 - history.history['accuracy'][-1]) * 100:.2f}%\",\n",
    "    \"Test Error\": f\"{test_error * 100:.2f}%\",\n",
    "    \"Duration(seconds)\": f\"{duration:.2f}\"\n",
    "})\n",
    "print(f\"Train error: {(1.0 - history.history['accuracy'][-1]) * 100:.2f}%\\nTest error: {test_error * 100:.2f}%\\nDuration: {duration:.2f} seconds\")"
   ]
  },
  {
   "cell_type": "code",
   "execution_count": 17,
   "id": "ba082e84-e55a-4c7e-aa35-763a3bc680a1",
   "metadata": {},
   "outputs": [
    {
     "name": "stdout",
     "output_type": "stream",
     "text": [
      "Epoch 1/3\n",
      "844/844 [==============================] - 32s 37ms/step - loss: 0.7514 - accuracy: 0.8801 - val_loss: 1.0666 - val_accuracy: 0.8098\n",
      "Epoch 2/3\n",
      "844/844 [==============================] - 31s 36ms/step - loss: 0.2274 - accuracy: 0.9481 - val_loss: 0.1739 - val_accuracy: 0.9598\n",
      "Epoch 3/3\n",
      "844/844 [==============================] - 32s 38ms/step - loss: 0.1664 - accuracy: 0.9600 - val_loss: 0.2494 - val_accuracy: 0.9360\n",
      "313/313 [==============================] - 2s 7ms/step - loss: 0.2572 - accuracy: 0.9343\n",
      "Train error: 4.00%\n",
      "Test error: 6.57%\n",
      "Duration: 95.11 seconds\n"
     ]
    }
   ],
   "source": [
    "conf3=Sequential()\n",
    " \n",
    "conf3.add(Conv2D(filters=64, kernel_size = (3,3), strides=(1,1), activation=\"relu\", kernel_initializer='glorot_uniform', input_shape=(28,28,1)))\n",
    "conf3.add(BatchNormalization())\n",
    "conf3.add(Conv2D(filters=64, kernel_size = (3,3), strides=(1,1), activation=\"relu\", kernel_initializer='glorot_uniform'))\n",
    "conf3.add(BatchNormalization())\n",
    "    \n",
    "conf3.add(Flatten())\n",
    "conf3.add(Dense(10,activation=\"softmax\"))\n",
    "    \n",
    "conf3.compile(loss=\"categorical_crossentropy\", optimizer=\"adam\", metrics=[\"accuracy\"])\n",
    "\n",
    "start_time = time.time()\n",
    "history = conf3.fit(\n",
    "    datagen.flow(train_images, train_labels, batch_size=64),\n",
    "    epochs=3,\n",
    "    validation_data=(val_images, val_labels),\n",
    "    callbacks=[es])\n",
    "duration = time.time()-start_time\n",
    "\n",
    "test_loss, test_acc = conf3.evaluate(test_images, test_labels)\n",
    "test_error = 1.0 - test_acc\n",
    "\n",
    "results.append({\n",
    "    \"Configuration\": \"conf3\",\n",
    "    \"Train Error\": f\"{(1.0 - history.history['accuracy'][-1]) * 100:.2f}%\",\n",
    "    \"Test Error\": f\"{test_error * 100:.2f}%\",\n",
    "    \"Duration(seconds)\": f\"{duration:.2f}\"\n",
    "})\n",
    "print(f\"Train error: {(1.0 - history.history['accuracy'][-1]) * 100:.2f}%\\nTest error: {test_error * 100:.2f}%\\nDuration: {duration:.2f} seconds\")"
   ]
  },
  {
   "cell_type": "code",
   "execution_count": 18,
   "id": "e94a069c-78bb-4fe8-b50d-e1faa3911ef6",
   "metadata": {},
   "outputs": [
    {
     "name": "stdout",
     "output_type": "stream",
     "text": [
      "Epoch 1/10\n",
      "844/844 [==============================] - 30s 35ms/step - loss: 0.7053 - accuracy: 0.8826 - val_loss: 0.2213 - val_accuracy: 0.9605\n",
      "Epoch 2/10\n",
      "844/844 [==============================] - 29s 35ms/step - loss: 0.2247 - accuracy: 0.9474 - val_loss: 0.1470 - val_accuracy: 0.9628\n",
      "Epoch 3/10\n",
      "844/844 [==============================] - 31s 36ms/step - loss: 0.1566 - accuracy: 0.9610 - val_loss: 0.1464 - val_accuracy: 0.9662\n",
      "Epoch 4/10\n",
      "844/844 [==============================] - 32s 38ms/step - loss: 0.1249 - accuracy: 0.9666 - val_loss: 0.1023 - val_accuracy: 0.9737\n",
      "Epoch 5/10\n",
      "844/844 [==============================] - 32s 38ms/step - loss: 0.1034 - accuracy: 0.9709 - val_loss: 0.1295 - val_accuracy: 0.9680\n",
      "Epoch 6/10\n",
      "844/844 [==============================] - 32s 38ms/step - loss: 0.0944 - accuracy: 0.9731 - val_loss: 0.0868 - val_accuracy: 0.9768\n",
      "Epoch 7/10\n",
      "844/844 [==============================] - 33s 39ms/step - loss: 0.0811 - accuracy: 0.9767 - val_loss: 0.1043 - val_accuracy: 0.9733\n",
      "Epoch 8/10\n",
      "844/844 [==============================] - 31s 37ms/step - loss: 0.0763 - accuracy: 0.9777 - val_loss: 0.0967 - val_accuracy: 0.9715\n",
      "Epoch 9/10\n",
      "843/844 [============================>.] - ETA: 0s - loss: 0.0722 - accuracy: 0.9788Restoring model weights from the end of the best epoch: 6.\n",
      "844/844 [==============================] - 31s 37ms/step - loss: 0.0722 - accuracy: 0.9788 - val_loss: 0.0869 - val_accuracy: 0.9733\n",
      "Epoch 9: early stopping\n",
      "313/313 [==============================] - 2s 7ms/step - loss: 0.0707 - accuracy: 0.9812\n",
      "Train error: 2.12%\n",
      "Test error: 1.88%\n",
      "Duration: 280.47 seconds\n"
     ]
    }
   ],
   "source": [
    "conf4=Sequential()\n",
    " \n",
    "conf4.add(Conv2D(filters=64, kernel_size = (3,3), strides=(1,1), activation=\"relu\", kernel_initializer='glorot_uniform', input_shape=(28,28,1)))\n",
    "conf4.add(BatchNormalization())\n",
    "conf4.add(Conv2D(filters=64, kernel_size = (3,3), strides=(1,1), activation=\"relu\", kernel_initializer='glorot_uniform'))\n",
    "conf4.add(BatchNormalization())\n",
    "    \n",
    "conf4.add(Flatten())\n",
    "conf4.add(Dense(10,activation=\"softmax\"))\n",
    "    \n",
    "conf4.compile(loss=\"categorical_crossentropy\", optimizer=\"adam\", metrics=[\"accuracy\"])\n",
    "\n",
    "start_time = time.time()\n",
    "history = conf4.fit(\n",
    "    datagen.flow(train_images, train_labels, batch_size=64),\n",
    "    epochs=10,\n",
    "    validation_data=(val_images, val_labels),\n",
    "    callbacks=[es])\n",
    "duration = time.time()-start_time\n",
    "\n",
    "test_loss, test_acc = conf4.evaluate(test_images, test_labels)\n",
    "test_error = 1.0 - test_acc\n",
    "\n",
    "results.append({\n",
    "    \"Configuration\": \"conf4\",\n",
    "    \"Train Error\": f\"{(1.0 - history.history['accuracy'][-1]) * 100:.2f}%\",\n",
    "    \"Test Error\": f\"{test_error * 100:.2f}%\",\n",
    "    \"Duration(seconds)\": f\"{duration:.2f}\"\n",
    "})\n",
    "print(f\"Train error: {(1.0 - history.history['accuracy'][-1]) * 100:.2f}%\\nTest error: {test_error * 100:.2f}%\\nDuration: {duration:.2f} seconds\")"
   ]
  },
  {
   "cell_type": "code",
   "execution_count": 19,
   "id": "d71d022a-8248-43f3-a307-6b0031d81559",
   "metadata": {},
   "outputs": [
    {
     "name": "stdout",
     "output_type": "stream",
     "text": [
      "Epoch 1/5\n",
      "844/844 [==============================] - 32s 37ms/step - loss: 0.7977 - accuracy: 0.8863 - val_loss: 0.3437 - val_accuracy: 0.9503\n",
      "Epoch 2/5\n",
      "844/844 [==============================] - 31s 37ms/step - loss: 0.3016 - accuracy: 0.9479 - val_loss: 0.2333 - val_accuracy: 0.9580\n",
      "Epoch 3/5\n",
      "844/844 [==============================] - 30s 35ms/step - loss: 0.1941 - accuracy: 0.9609 - val_loss: 0.1408 - val_accuracy: 0.9732\n",
      "Epoch 4/5\n",
      "844/844 [==============================] - 30s 35ms/step - loss: 0.1379 - accuracy: 0.9674 - val_loss: 0.0937 - val_accuracy: 0.9785\n",
      "Epoch 5/5\n",
      "844/844 [==============================] - 30s 35ms/step - loss: 0.1122 - accuracy: 0.9723 - val_loss: 0.0712 - val_accuracy: 0.9810\n",
      "313/313 [==============================] - 2s 7ms/step - loss: 0.0685 - accuracy: 0.9811\n",
      "Train error: 2.77%\n",
      "Test error: 1.89%\n",
      "Duration: 152.13 seconds\n"
     ]
    }
   ],
   "source": [
    "conf5=Sequential()\n",
    " \n",
    "conf5.add(Conv2D(filters=64, kernel_size = (3,3), strides=(1,1), activation=\"relu\", kernel_initializer='he_uniform', input_shape=(28,28,1)))\n",
    "conf5.add(BatchNormalization())\n",
    "conf5.add(Conv2D(filters=64, kernel_size = (3,3), strides=(1,1), activation=\"relu\", kernel_initializer='he_uniform'))\n",
    "conf5.add(BatchNormalization())\n",
    "    \n",
    "conf5.add(Flatten())\n",
    "conf5.add(Dense(10,activation=\"softmax\"))\n",
    "    \n",
    "conf5.compile(loss=\"categorical_crossentropy\", optimizer=\"adam\", metrics=[\"accuracy\"])\n",
    "\n",
    "start_time = time.time()\n",
    "history = conf5.fit(\n",
    "    datagen.flow(train_images, train_labels, batch_size=64),\n",
    "    epochs=5,\n",
    "    validation_data=(val_images, val_labels),\n",
    "    callbacks=[es])\n",
    "duration = time.time()-start_time\n",
    "\n",
    "test_loss, test_acc = conf5.evaluate(test_images, test_labels)\n",
    "test_error = 1.0 - test_acc\n",
    "\n",
    "results.append({\n",
    "    \"Configuration\": \"conf5\",\n",
    "    \"Train Error\": f\"{(1.0 - history.history['accuracy'][-1]) * 100:.2f}%\",\n",
    "    \"Test Error\": f\"{test_error * 100:.2f}%\",\n",
    "    \"Duration(seconds)\": f\"{duration:.2f}\"\n",
    "})\n",
    "print(f\"Train error: {(1.0 - history.history['accuracy'][-1]) * 100:.2f}%\\nTest error: {test_error * 100:.2f}%\\nDuration: {duration:.2f} seconds\")"
   ]
  },
  {
   "cell_type": "code",
   "execution_count": 20,
   "id": "85173590-2e1e-409f-8a60-a6b5cf71486f",
   "metadata": {},
   "outputs": [
    {
     "name": "stdout",
     "output_type": "stream",
     "text": [
      "Epoch 1/5\n",
      "844/844 [==============================] - 53s 62ms/step - loss: 0.7125 - accuracy: 0.8965 - val_loss: 0.2344 - val_accuracy: 0.9612\n",
      "Epoch 2/5\n",
      "844/844 [==============================] - 48s 57ms/step - loss: 0.3166 - accuracy: 0.9543 - val_loss: 0.1580 - val_accuracy: 0.9730\n",
      "Epoch 3/5\n",
      "844/844 [==============================] - 46s 54ms/step - loss: 0.2027 - accuracy: 0.9655 - val_loss: 0.1238 - val_accuracy: 0.9753\n",
      "Epoch 4/5\n",
      "844/844 [==============================] - 49s 58ms/step - loss: 0.1426 - accuracy: 0.9706 - val_loss: 0.0697 - val_accuracy: 0.9848\n",
      "Epoch 5/5\n",
      "844/844 [==============================] - 51s 61ms/step - loss: 0.1097 - accuracy: 0.9752 - val_loss: 0.0910 - val_accuracy: 0.9782\n",
      "313/313 [==============================] - 3s 11ms/step - loss: 0.0778 - accuracy: 0.9813\n",
      "Train error: 2.48%\n",
      "Test error: 1.87%\n",
      "Duration: 247.18 seconds\n"
     ]
    }
   ],
   "source": [
    "conf6=Sequential()\n",
    " \n",
    "conf6.add(Conv2D(filters=64, kernel_size = (3,3), strides=(1,1), activation=\"relu\", kernel_initializer='glorot_uniform', input_shape=(28,28,1)))\n",
    "conf6.add(BatchNormalization())\n",
    "conf6.add(Conv2D(filters=64, kernel_size = (3,3), strides=(1,1), activation=\"relu\", kernel_initializer='glorot_uniform', input_shape=(28,28,1)))\n",
    "conf6.add(BatchNormalization())\n",
    "conf6.add(Conv2D(filters=64, kernel_size = (3,3), strides=(1,1), activation=\"relu\", kernel_initializer='glorot_uniform'))\n",
    "conf6.add(BatchNormalization())\n",
    "    \n",
    "conf6.add(Flatten())\n",
    "conf6.add(Dense(10,activation=\"softmax\"))\n",
    "    \n",
    "conf6.compile(loss=\"categorical_crossentropy\", optimizer=\"adam\", metrics=[\"accuracy\"])\n",
    "\n",
    "start_time = time.time()\n",
    "history = conf6.fit(\n",
    "    datagen.flow(train_images, train_labels, batch_size=64),\n",
    "    epochs=5,\n",
    "    validation_data=(val_images, val_labels),\n",
    "    callbacks=[es])\n",
    "duration = time.time()-start_time\n",
    "\n",
    "test_loss, test_acc = conf6.evaluate(test_images, test_labels)\n",
    "test_error = 1.0 - test_acc\n",
    "\n",
    "results.append({\n",
    "    \"Configuration\": \"conf6\",\n",
    "    \"Train Error\": f\"{(1.0 - history.history['accuracy'][-1]) * 100:.2f}%\",\n",
    "    \"Test Error\": f\"{test_error * 100:.2f}%\",\n",
    "    \"Duration(seconds)\": f\"{duration:.2f}\"\n",
    "})\n",
    "print(f\"Train error: {(1.0 - history.history['accuracy'][-1]) * 100:.2f}%\\nTest error: {test_error * 100:.2f}%\\nDuration: {duration:.2f} seconds\")"
   ]
  },
  {
   "cell_type": "code",
   "execution_count": 21,
   "id": "8e89aea7-76cc-4b7b-b924-39e71a157f50",
   "metadata": {},
   "outputs": [
    {
     "name": "stdout",
     "output_type": "stream",
     "text": [
      "Epoch 1/5\n",
      "844/844 [==============================] - 16s 18ms/step - loss: 0.4499 - accuracy: 0.8898 - val_loss: 0.2224 - val_accuracy: 0.9387\n",
      "Epoch 2/5\n",
      "844/844 [==============================] - 15s 17ms/step - loss: 0.1797 - accuracy: 0.9515 - val_loss: 0.0984 - val_accuracy: 0.9745\n",
      "Epoch 3/5\n",
      "844/844 [==============================] - 17s 20ms/step - loss: 0.1403 - accuracy: 0.9615 - val_loss: 0.1039 - val_accuracy: 0.9682\n",
      "Epoch 4/5\n",
      "844/844 [==============================] - 15s 18ms/step - loss: 0.1125 - accuracy: 0.9671 - val_loss: 0.1218 - val_accuracy: 0.9677\n",
      "Epoch 5/5\n",
      "843/844 [============================>.] - ETA: 0s - loss: 0.0972 - accuracy: 0.9718Restoring model weights from the end of the best epoch: 2.\n",
      "844/844 [==============================] - 16s 19ms/step - loss: 0.0973 - accuracy: 0.9717 - val_loss: 0.0894 - val_accuracy: 0.9733\n",
      "Epoch 5: early stopping\n",
      "313/313 [==============================] - 1s 3ms/step - loss: 0.0903 - accuracy: 0.9749\n",
      "Train error: 2.83%\n",
      "Test error: 2.51%\n",
      "Duration: 79.38 seconds\n"
     ]
    }
   ],
   "source": [
    "conf7=Sequential()\n",
    " \n",
    "conf7.add(Conv2D(filters=32, kernel_size = (3,3), strides=(1,1), activation=\"relu\", kernel_initializer='glorot_uniform', input_shape=(28,28,1)))\n",
    "conf7.add(BatchNormalization())\n",
    "conf7.add(Conv2D(filters=32, kernel_size = (3,3), strides=(1,1), activation=\"relu\", kernel_initializer='glorot_uniform'))\n",
    "conf7.add(BatchNormalization())\n",
    "    \n",
    "conf7.add(Flatten())\n",
    "conf7.add(Dense(10,activation=\"softmax\"))\n",
    "    \n",
    "conf7.compile(loss=\"categorical_crossentropy\", optimizer=\"adam\", metrics=[\"accuracy\"])\n",
    "\n",
    "start_time = time.time()\n",
    "history = conf7.fit(\n",
    "    datagen.flow(train_images, train_labels, batch_size=64),\n",
    "    epochs=5,\n",
    "    validation_data=(val_images, val_labels),\n",
    "    callbacks=[es])\n",
    "duration = time.time()-start_time\n",
    "\n",
    "test_loss, test_acc = conf7.evaluate(test_images, test_labels)\n",
    "test_error = 1.0 - test_acc\n",
    "\n",
    "results.append({\n",
    "    \"Configuration\": \"conf7\",\n",
    "    \"Train Error\": f\"{(1.0 - history.history['accuracy'][-1]) * 100:.2f}%\",\n",
    "    \"Test Error\": f\"{test_error * 100:.2f}%\",\n",
    "    \"Duration(seconds)\": f\"{duration:.2f}\"\n",
    "})\n",
    "print(f\"Train error: {(1.0 - history.history['accuracy'][-1]) * 100:.2f}%\\nTest error: {test_error * 100:.2f}%\\nDuration: {duration:.2f} seconds\")"
   ]
  },
  {
   "cell_type": "code",
   "execution_count": 22,
   "id": "95062a10-d7b7-4bc4-81af-334b2a3d7909",
   "metadata": {},
   "outputs": [
    {
     "name": "stdout",
     "output_type": "stream",
     "text": [
      "Epoch 1/5\n",
      "844/844 [==============================] - 100s 117ms/step - loss: 0.9926 - accuracy: 0.8837 - val_loss: 0.1163 - val_accuracy: 0.9693\n",
      "Epoch 2/5\n",
      "844/844 [==============================] - 96s 113ms/step - loss: 0.2018 - accuracy: 0.9508 - val_loss: 0.1470 - val_accuracy: 0.9653\n",
      "Epoch 3/5\n",
      "844/844 [==============================] - 95s 113ms/step - loss: 0.1533 - accuracy: 0.9610 - val_loss: 0.1124 - val_accuracy: 0.9733\n",
      "Epoch 4/5\n",
      "844/844 [==============================] - 101s 120ms/step - loss: 0.1234 - accuracy: 0.9673 - val_loss: 0.1075 - val_accuracy: 0.9720\n",
      "Epoch 5/5\n",
      "844/844 [==============================] - 97s 115ms/step - loss: 0.1009 - accuracy: 0.9718 - val_loss: 0.0701 - val_accuracy: 0.9810\n",
      "313/313 [==============================] - 5s 17ms/step - loss: 0.0567 - accuracy: 0.9842\n",
      "Train error: 2.82%\n",
      "Test error: 1.58%\n",
      "Duration: 488.70 seconds\n"
     ]
    }
   ],
   "source": [
    "conf8=Sequential()\n",
    " \n",
    "conf8.add(Conv2D(filters=128, kernel_size = (3,3), strides=(1,1), activation=\"relu\", kernel_initializer='glorot_uniform', input_shape=(28,28,1)))\n",
    "conf8.add(BatchNormalization())\n",
    "conf8.add(Conv2D(filters=128, kernel_size = (3,3), strides=(1,1), activation=\"relu\", kernel_initializer='glorot_uniform'))\n",
    "conf8.add(BatchNormalization())\n",
    "    \n",
    "conf8.add(Flatten())\n",
    "conf8.add(Dense(10,activation=\"softmax\"))\n",
    "    \n",
    "conf8.compile(loss=\"categorical_crossentropy\", optimizer=\"adam\", metrics=[\"accuracy\"])\n",
    "\n",
    "start_time = time.time()\n",
    "history = conf8.fit(\n",
    "    datagen.flow(train_images, train_labels, batch_size=64),\n",
    "    epochs=5,\n",
    "    validation_data=(val_images, val_labels),\n",
    "    callbacks=[es])\n",
    "duration = time.time()-start_time\n",
    "\n",
    "test_loss, test_acc = conf8.evaluate(test_images, test_labels)\n",
    "test_error = 1.0 - test_acc\n",
    "\n",
    "results.append({\n",
    "    \"Configuration\": \"conf8\",\n",
    "    \"Train Error\": f\"{(1.0 - history.history['accuracy'][-1]) * 100:.2f}%\",\n",
    "    \"Test Error\": f\"{test_error * 100:.2f}%\",\n",
    "    \"Duration(seconds)\": f\"{duration:.2f}\"\n",
    "})\n",
    "print(f\"Train error: {(1.0 - history.history['accuracy'][-1]) * 100:.2f}%\\nTest error: {test_error * 100:.2f}%\\nDuration: {duration:.2f} seconds\")"
   ]
  },
  {
   "cell_type": "code",
   "execution_count": 23,
   "id": "a29fce52-a598-401e-b862-a7bd53cf930f",
   "metadata": {},
   "outputs": [
    {
     "name": "stdout",
     "output_type": "stream",
     "text": [
      "Epoch 1/5\n",
      "844/844 [==============================] - 25s 29ms/step - loss: 1.1364 - accuracy: 0.6726 - val_loss: 1.7856 - val_accuracy: 0.5093\n",
      "Epoch 2/5\n",
      "844/844 [==============================] - 23s 27ms/step - loss: 0.8952 - accuracy: 0.7235 - val_loss: 6.1027 - val_accuracy: 0.2572\n",
      "Epoch 3/5\n",
      "844/844 [==============================] - 24s 29ms/step - loss: 0.8588 - accuracy: 0.7346 - val_loss: 6.9699 - val_accuracy: 0.2103\n",
      "Epoch 4/5\n",
      "843/844 [============================>.] - ETA: 0s - loss: 0.8312 - accuracy: 0.7469Restoring model weights from the end of the best epoch: 1.\n",
      "844/844 [==============================] - 21s 25ms/step - loss: 0.8310 - accuracy: 0.7470 - val_loss: 8.6637 - val_accuracy: 0.1743\n",
      "Epoch 4: early stopping\n",
      "313/313 [==============================] - 1s 3ms/step - loss: 1.6688 - accuracy: 0.5261\n",
      "Train error: 25.30%\n",
      "Test error: 47.39%\n",
      "Duration: 93.74 seconds\n"
     ]
    }
   ],
   "source": [
    "conf9=Sequential()\n",
    " \n",
    "conf9.add(Conv2D(filters=64, kernel_size = (1,1), strides=(1,1), activation=\"relu\", kernel_initializer='glorot_uniform', input_shape=(28,28,1)))\n",
    "conf9.add(BatchNormalization())\n",
    "conf9.add(Conv2D(filters=64, kernel_size = (1,1), strides=(1,1), activation=\"relu\", kernel_initializer='glorot_uniform'))\n",
    "conf9.add(BatchNormalization())\n",
    "    \n",
    "conf9.add(Flatten())\n",
    "conf9.add(Dense(10,activation=\"softmax\"))\n",
    "    \n",
    "conf9.compile(loss=\"categorical_crossentropy\", optimizer=\"adam\", metrics=[\"accuracy\"])\n",
    "\n",
    "start_time = time.time()\n",
    "history = conf9.fit(\n",
    "    datagen.flow(train_images, train_labels, batch_size=64),\n",
    "    epochs=5,\n",
    "    validation_data=(val_images, val_labels),\n",
    "    callbacks=[es])\n",
    "duration = time.time()-start_time\n",
    "\n",
    "test_loss, test_acc = conf9.evaluate(test_images, test_labels)\n",
    "test_error = 1.0 - test_acc\n",
    "\n",
    "results.append({\n",
    "    \"Configuration\": \"conf9\",\n",
    "    \"Train Error\": f\"{(1.0 - history.history['accuracy'][-1]) * 100:.2f}%\",\n",
    "    \"Test Error\": f\"{test_error * 100:.2f}%\",\n",
    "    \"Duration(seconds)\": f\"{duration:.2f}\"\n",
    "})\n",
    "print(f\"Train error: {(1.0 - history.history['accuracy'][-1]) * 100:.2f}%\\nTest error: {test_error * 100:.2f}%\\nDuration: {duration:.2f} seconds\")"
   ]
  },
  {
   "cell_type": "code",
   "execution_count": 24,
   "id": "c35731bf-6c0e-401d-94d0-5230cf5135a9",
   "metadata": {},
   "outputs": [
    {
     "name": "stdout",
     "output_type": "stream",
     "text": [
      "Epoch 1/5\n",
      "844/844 [==============================] - 42s 49ms/step - loss: 0.5447 - accuracy: 0.9042 - val_loss: 0.2192 - val_accuracy: 0.9607\n",
      "Epoch 2/5\n",
      "844/844 [==============================] - 42s 50ms/step - loss: 0.2084 - accuracy: 0.9599 - val_loss: 0.0891 - val_accuracy: 0.9827\n",
      "Epoch 3/5\n",
      "844/844 [==============================] - 41s 49ms/step - loss: 0.1537 - accuracy: 0.9686 - val_loss: 0.1107 - val_accuracy: 0.9775\n",
      "Epoch 4/5\n",
      "844/844 [==============================] - 42s 49ms/step - loss: 0.1150 - accuracy: 0.9744 - val_loss: 0.0977 - val_accuracy: 0.9798\n",
      "Epoch 5/5\n",
      "844/844 [==============================] - 46s 55ms/step - loss: 0.1062 - accuracy: 0.9751 - val_loss: 0.0648 - val_accuracy: 0.9855\n",
      "313/313 [==============================] - 3s 8ms/step - loss: 0.0590 - accuracy: 0.9847\n",
      "Train error: 2.49%\n",
      "Test error: 1.53%\n",
      "Duration: 214.04 seconds\n"
     ]
    }
   ],
   "source": [
    "conf10=Sequential()\n",
    " \n",
    "conf10.add(Conv2D(filters=64, kernel_size = (5,5), strides=(1,1), activation=\"relu\", kernel_initializer='glorot_uniform', input_shape=(28,28,1)))\n",
    "conf10.add(BatchNormalization())\n",
    "conf10.add(Conv2D(filters=64, kernel_size = (5,5), strides=(1,1), activation=\"relu\", kernel_initializer='glorot_uniform'))\n",
    "conf10.add(BatchNormalization())\n",
    "    \n",
    "conf10.add(Flatten())\n",
    "conf10.add(Dense(10,activation=\"softmax\"))\n",
    "    \n",
    "conf10.compile(loss=\"categorical_crossentropy\", optimizer=\"adam\", metrics=[\"accuracy\"])\n",
    "\n",
    "start_time = time.time()\n",
    "history = conf10.fit(\n",
    "    datagen.flow(train_images, train_labels, batch_size=64),\n",
    "    epochs=5,\n",
    "    validation_data=(val_images, val_labels),\n",
    "    callbacks=[es])\n",
    "duration = time.time()-start_time\n",
    "\n",
    "test_loss, test_acc = conf10.evaluate(test_images, test_labels)\n",
    "test_error = 1.0 - test_acc\n",
    "\n",
    "results.append({\n",
    "    \"Configuration\": \"conf10\",\n",
    "    \"Train Error\": f\"{(1.0 - history.history['accuracy'][-1]) * 100:.2f}%\",\n",
    "    \"Test Error\": f\"{test_error * 100:.2f}%\",\n",
    "    \"Duration(seconds)\": f\"{duration:.2f}\"\n",
    "})\n",
    "print(f\"Train error: {(1.0 - history.history['accuracy'][-1]) * 100:.2f}%\\nTest error: {test_error * 100:.2f}%\\nDuration: {duration:.2f} seconds\")"
   ]
  },
  {
   "cell_type": "code",
   "execution_count": 25,
   "id": "ef45a864-ff2a-40c6-8741-c37bc8aa979f",
   "metadata": {},
   "outputs": [
    {
     "name": "stdout",
     "output_type": "stream",
     "text": [
      "   Configuration Train Error Test Error Duration(seconds)\n",
      "0          model       2.88%      1.93%            149.24\n",
      "1          conf1       2.84%      1.46%            155.76\n",
      "2          conf2       2.89%      3.94%            144.78\n",
      "3          conf3       4.00%      6.57%             95.11\n",
      "4          conf4       2.12%      1.88%            280.47\n",
      "5          conf5       2.77%      1.89%            152.13\n",
      "6          conf6       2.48%      1.87%            247.18\n",
      "7          conf7       2.83%      2.51%             79.38\n",
      "8          conf8       2.82%      1.58%            488.70\n",
      "9          conf9      25.30%     47.39%             93.74\n",
      "10        conf10       2.49%      1.53%            214.04\n"
     ]
    }
   ],
   "source": [
    "df = pd.DataFrame(results)\n",
    "print(df)"
   ]
  },
  {
   "cell_type": "markdown",
   "id": "22292668-d5c3-431e-a6c0-9d351d9b17f1",
   "metadata": {},
   "source": [
    "## Daftar Referensi\n",
    "1. https://paperswithcode.com/datasets?task=image-classification\n",
    "2. https://keras.io/api/datasets/mnist/\n",
    "3. https://www.kaggle.com/code/vortexkol/alexnet-cnn-architecture-on-tensorflow-beginner\n",
    "4. https://keras.io/layers/core/\n",
    "5. https://keras.io/layers/convolutional/\n",
    "6. https://keras.io/layers/pooling/\n",
    "7. https://www.kaggle.com/yassineghouzam/introduction-to-cnn-keras-0-997-top-6\n",
    "8. https://keras.io/api/callbacks/early_stopping/"
   ]
  }
 ],
 "metadata": {
  "kernelspec": {
   "display_name": "Python 3 (ipykernel)",
   "language": "python",
   "name": "python3"
  },
  "language_info": {
   "codemirror_mode": {
    "name": "ipython",
    "version": 3
   },
   "file_extension": ".py",
   "mimetype": "text/x-python",
   "name": "python",
   "nbconvert_exporter": "python",
   "pygments_lexer": "ipython3",
   "version": "3.11.4"
  }
 },
 "nbformat": 4,
 "nbformat_minor": 5
}
