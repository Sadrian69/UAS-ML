{
 "cells": [
  {
   "cell_type": "markdown",
   "id": "c96a7315-43c1-4604-8fc4-a663cf9f834f",
   "metadata": {},
   "source": [
    "# Laporan Project UAS Machine Learning\n",
    "\n",
    "Adi Christian C14210091\\\n",
    "Meike Surajiman C14210116\\\n",
    "Steven Adrian Gracia C14210171\n"
   ]
  },
  {
   "cell_type": "markdown",
   "id": "64092b7a-4076-4c22-8a88-2a665f240f39",
   "metadata": {
    "tags": []
   },
   "source": [
    "## Pengenalan dataset\n",
    "Dataset yang kami pakai adalah [MNIST]() . Dataset ini berisi blablabla"
   ]
  },
  {
   "cell_type": "code",
   "execution_count": 4,
   "id": "591f3059-2c02-4bcd-bff1-e3c1f245972b",
   "metadata": {
    "tags": []
   },
   "outputs": [
    {
     "ename": "SyntaxError",
     "evalue": "invalid syntax (2379321290.py, line 1)",
     "output_type": "error",
     "traceback": [
      "\u001b[1;36m  Cell \u001b[1;32mIn[4], line 1\u001b[1;36m\u001b[0m\n\u001b[1;33m    wget https://bootstrap.pypa.io/pip/2.7/get-pip.py\u001b[0m\n\u001b[1;37m         ^\u001b[0m\n\u001b[1;31mSyntaxError\u001b[0m\u001b[1;31m:\u001b[0m invalid syntax\n"
     ]
    }
   ],
   "source": [
    "wget https://bootstrap.pypa.io/pip/2.7/get-pip.py\n",
    "python get-pip.py\n",
    "pip install --upgrade setuptools"
   ]
  },
  {
   "cell_type": "code",
   "execution_count": 2,
   "id": "bcc87ff7-6440-4cba-a9b1-3176ad53c2d2",
   "metadata": {
    "tags": []
   },
   "outputs": [
    {
     "ename": "SyntaxError",
     "evalue": "invalid syntax (2882900559.py, line 1)",
     "output_type": "error",
     "traceback": [
      "\u001b[1;36m  Cell \u001b[1;32mIn[2], line 1\u001b[1;36m\u001b[0m\n\u001b[1;33m    pip install --upgrade setuptools --user python\u001b[0m\n\u001b[1;37m        ^\u001b[0m\n\u001b[1;31mSyntaxError\u001b[0m\u001b[1;31m:\u001b[0m invalid syntax\n"
     ]
    }
   ],
   "source": [
    "pip install --upgrade setuptools --user python\n",
    "pip install --upgrade pip\n",
    "pip install tensorflow"
   ]
  },
  {
   "cell_type": "code",
   "execution_count": null,
   "id": "d9a7b788-8cc8-4a27-bd30-01365b57a674",
   "metadata": {},
   "outputs": [],
   "source": [
    "# libraries\n",
    "import numpy as np \n",
    "import pandas as pd \n",
    "import tensorflow as tf\n",
    "from tensorflow import keras\n",
    "import matplotlib.pyplot as plt\n",
    "import os\n",
    "import time"
   ]
  },
  {
   "cell_type": "code",
   "execution_count": null,
   "id": "45694f7b-cf35-4ad7-a260-20f60ad4bf90",
   "metadata": {},
   "outputs": [],
   "source": [
    "# dataset\n",
    "# siapin dataset masuk\"in"
   ]
  },
  {
   "cell_type": "markdown",
   "id": "facffc80-643f-4b87-985b-eb68263286dd",
   "metadata": {
    "tags": []
   },
   "source": [
    "## Data Preprocessing\n",
    "Ada beberapa hal yang perlu dilakukan sebelum memproses dataset tersebut, diantaranya:\n",
    "1. a\n",
    "2. aa\n",
    "3. aaaa"
   ]
  },
  {
   "cell_type": "code",
   "execution_count": null,
   "id": "1097777f-0cd4-423f-814d-bd89879a617a",
   "metadata": {},
   "outputs": [],
   "source": [
    "# a"
   ]
  },
  {
   "cell_type": "code",
   "execution_count": null,
   "id": "bb7e1e2e-1a51-42b6-96ad-909fdc2b73fa",
   "metadata": {},
   "outputs": [],
   "source": [
    "# aa"
   ]
  },
  {
   "cell_type": "code",
   "execution_count": null,
   "id": "7c4c8aaa-3c94-40af-9dfe-4d787c24b3e8",
   "metadata": {},
   "outputs": [],
   "source": [
    "# aaa"
   ]
  },
  {
   "cell_type": "markdown",
   "id": "399aa2d5-c90e-4ca2-9bc0-c7d539fbd1c0",
   "metadata": {},
   "source": [
    "## Metode CNN: Alexnet\n",
    "membacot tentang alek"
   ]
  },
  {
   "cell_type": "code",
   "execution_count": null,
   "id": "0a78fef4-a57d-4073-a603-57294e00554c",
   "metadata": {},
   "outputs": [],
   "source": []
  },
  {
   "cell_type": "markdown",
   "id": "b87ff5f7-9c43-47a8-81a3-de37ea1a68f1",
   "metadata": {},
   "source": [
    "## Konfigurasi parameter CNN\n",
    "Kami mencoba beberapa konfigurasi parameter di CNN. Data yang kami dapatkan sebagai berikut dengan implementasi di bawahnya\n",
    "| CONFIGURATION | LAYERS | REGULARIZATION | TRAIN ERROR | TEST ERROR |\n",
    "|---------------|--------|----------------|-------------|------------|\n",
    "| Conf1         |        |                |             |            |\n",
    "| Conf2         |        |                |             |            |\n",
    "| Conf3         |        |                |             |            |\n",
    "| Conf4         |        |                |             |            |\n",
    "| Conf5         |        |                |             |            |\n",
    "| Conf6         |        |                |             |            |\n",
    "| Conf7         |        |                |             |            |\n",
    "| Conf8         |        |                |             |            |\n",
    "| Conf9         |        |                |             |            |\n",
    "| Conf10        |        |                |             |            |\n",
    "\n",
    "Dari data yang kami dapatkan, konfigurasi yang terbaik adalah ConfXX dengan train error XX% dan test error XX%"
   ]
  },
  {
   "cell_type": "code",
   "execution_count": null,
   "id": "97e43b28-6004-4154-ae64-3f2b4d3be14c",
   "metadata": {},
   "outputs": [],
   "source": []
  },
  {
   "cell_type": "code",
   "execution_count": null,
   "id": "bebf2e90-032a-4124-87c1-6aa95ee073f2",
   "metadata": {},
   "outputs": [],
   "source": []
  },
  {
   "cell_type": "markdown",
   "id": "22292668-d5c3-431e-a6c0-9d351d9b17f1",
   "metadata": {},
   "source": [
    "## Daftar Referensi\n",
    "1. https://paperswithcode.com/datasets?task=image-classification\n",
    "2. https://www.kaggle.com/code/vortexkol/alexnet-cnn-architecture-on-tensorflow-beginner"
   ]
  }
 ],
 "metadata": {
  "kernelspec": {
   "display_name": "Python 3 (ipykernel)",
   "language": "python",
   "name": "python3"
  },
  "language_info": {
   "codemirror_mode": {
    "name": "ipython",
    "version": 3
   },
   "file_extension": ".py",
   "mimetype": "text/x-python",
   "name": "python",
   "nbconvert_exporter": "python",
   "pygments_lexer": "ipython3",
   "version": "3.11.4"
  }
 },
 "nbformat": 4,
 "nbformat_minor": 5
}
